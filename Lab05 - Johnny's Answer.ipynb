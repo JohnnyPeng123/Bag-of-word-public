{
  "nbformat": 4,
  "nbformat_minor": 0,
  "metadata": {
    "colab": {
      "name": "Lab05.ipynb",
      "provenance": [],
      "collapsed_sections": [],
      "toc_visible": true,
      "machine_shape": "hm",
      "include_colab_link": true
    },
    "kernelspec": {
      "name": "python3",
      "display_name": "Python 3"
    },
    "accelerator": "GPU"
  },
  "cells": [
    {
      "cell_type": "markdown",
      "metadata": {
        "id": "view-in-github",
        "colab_type": "text"
      },
      "source": [
        "<a href=\"https://colab.research.google.com/github/JohnnyPeng123/Bag-of-word-public/blob/master/Lab05%20-%20Johnny's%20Answer.ipynb\" target=\"_parent\"><img src=\"https://colab.research.google.com/assets/colab-badge.svg\" alt=\"Open In Colab\"/></a>"
      ]
    },
    {
      "cell_type": "markdown",
      "metadata": {
        "id": "2JX8CSelGdJf",
        "colab_type": "text"
      },
      "source": [
        "# Lab 05"
      ]
    },
    {
      "cell_type": "markdown",
      "metadata": {
        "id": "be_7UFUxGfke",
        "colab_type": "text"
      },
      "source": [
        "# Preprocessing\n",
        "\n",
        "Text preprocessing is traditionally an important step for natural language processing (NLP) tasks. It transforms text into a more digestible form so that machine learning algorithms can perform better."
      ]
    },
    {
      "cell_type": "markdown",
      "metadata": {
        "id": "ee0J8xZ9Kxwk",
        "colab_type": "text"
      },
      "source": [
        "## Text Wrangling"
      ]
    },
    {
      "cell_type": "markdown",
      "metadata": {
        "id": "18BJU1JqYnSD",
        "colab_type": "text"
      },
      "source": [
        "Text wrangling is a converting/gathering/extracting formatted text from the raw data. "
      ]
    },
    {
      "cell_type": "markdown",
      "metadata": {
        "id": "tWOVJtY-L1Sm",
        "colab_type": "text"
      },
      "source": [
        "For example, **HTML** does not include only text. Even you extract only the text from **HTML**, they are not all meaningful (i.e. advertisements).\n",
        "\n",
        "Have a look at the [news article](https://www.smh.com.au/national/nsw/macquarie-uni-suspends-teaching-for-10-days-to-move-learning-online-20200317-p54avs.html). We might be only interested in getting headline and main contents of the article.\n",
        "\n",
        "The following code removes some irrelevant tags (i.e. script, style, link, etc.) and displays the remained tags. ()\n",
        "    \n"
      ]
    },
    {
      "cell_type": "code",
      "metadata": {
        "id": "4_FeckidL1k0",
        "colab_type": "code",
        "outputId": "ffc16939-a226-4ced-a425-dacf888f4f30",
        "colab": {
          "base_uri": "https://localhost:8080/",
          "height": 1000
        }
      },
      "source": [
        "import urllib\n",
        "from bs4 import BeautifulSoup\n",
        "\n",
        "url = \"https://www.smh.com.au/national/nsw/macquarie-uni-suspends-teaching-for-10-days-to-move-learning-online-20200317-p54avs.html\"\n",
        "html = urllib.request.urlopen(url).read()\n",
        "soup = BeautifulSoup(html)\n",
        "\n",
        "# remove not relevant tags (script, style, link, etc.)\n",
        "for script in soup([\"script\", \"style\", \"link\", \"head\", \"noscript\"]):\n",
        "    script.extract()    # rip it out\n",
        "\n",
        "# get text\n",
        "text = soup.get_text()\n",
        "\n",
        "print(soup.prettify())"
      ],
      "execution_count": 1,
      "outputs": [
        {
          "output_type": "stream",
          "text": [
            "<!DOCTYPE html>\n",
            "<html lang=\"en\">\n",
            " <body data-pb-config=\"{}\">\n",
            "  <div id=\"app\">\n",
            "   <div>\n",
            "    <div>\n",
            "     <div aria-atomic=\"true\" aria-live=\"off\" class=\"_2O3rv\" id=\"page_announcer\" tabindex=\"-1\">\n",
            "      University of Sydney to move fully online while Macquarie cancels classes\n",
            "     </div>\n",
            "     <div>\n",
            "     </div>\n",
            "     <nav class=\"RbLp5\">\n",
            "      <a href=\"#sections\">\n",
            "       Skip to sections navigation\n",
            "      </a>\n",
            "      <a href=\"#content\">\n",
            "       Skip to content\n",
            "      </a>\n",
            "      <a href=\"#footer\">\n",
            "       Skip to footer\n",
            "      </a>\n",
            "     </nav>\n",
            "     <header class=\"_21UZG noPrint\">\n",
            "      <div class=\"_2L98J\">\n",
            "       <ul>\n",
            "        <li class=\"PJUwX\">\n",
            "         <a aria-controls=\"navigation\" aria-expanded=\"false\" href=\"javascript:void(0);\">\n",
            "          Our network\n",
            "         </a>\n",
            "        </li>\n",
            "        <li class=\"_3CYE0\">\n",
            "         <div class=\"_3LlBk\">\n",
            "          <a class=\"_2dAsA\" href=\"https://subscribe.smh.com.au/?promote_channel=HI_SMH_GNL_HL\">\n",
            "           Subscribe\n",
            "          </a>\n",
            "          <button class=\"_3S9ou\" data-test=\"login-button-myaccount\">\n",
            "           Log In\n",
            "          </button>\n",
            "         </div>\n",
            "        </li>\n",
            "       </ul>\n",
            "      </div>\n",
            "      <div class=\"h-Jxc\">\n",
            "       <div class=\"_1hN2k\">\n",
            "        <button aria-controls=\"navigation\" aria-expanded=\"false\" class=\"_2g2-4 _2FxXH\" id=\"sections\">\n",
            "         <span class=\"_2Wsmd\">\n",
            "          <em>\n",
            "           Open\n",
            "          </em>\n",
            "         </span>\n",
            "         <span class=\"yHQ5k\">\n",
            "          Menu\n",
            "         </span>\n",
            "        </button>\n",
            "       </div>\n",
            "       <div class=\"_2FAuv\">\n",
            "        <div class=\"_3uPYr _2qnYw\">\n",
            "         <a class=\"_2ABN- YClUs\" href=\"/\">\n",
            "          <h2>\n",
            "           The Sydney Morning Herald\n",
            "          </h2>\n",
            "         </a>\n",
            "        </div>\n",
            "       </div>\n",
            "       <div class=\"gLolC _2fVGr\">\n",
            "        <a class=\"_1GI7o WvV_s\" href=\"https://subscribe.smh.com.au/?promote_channel=HI_SMH_GNL_HL\">\n",
            "         Subscribe\n",
            "        </a>\n",
            "        <button aria-expanded=\"false\" aria-haspopup=\"true\" class=\"_198CK\">\n",
            "         <span>\n",
            "          0\n",
            "          <!-- -->\n",
            "          <span class=\"wI-js\">\n",
            "           item\n",
            "           <!-- -->\n",
            "           s\n",
            "           <!-- -->\n",
            "           in Shortlist\n",
            "          </span>\n",
            "         </span>\n",
            "        </button>\n",
            "       </div>\n",
            "      </div>\n",
            "     </header>\n",
            "     <div class=\"_3ic7p printOnly\">\n",
            "      <div class=\"_3uPYr _2qnYw\">\n",
            "       <a class=\"_2ABN- YClUs\" href=\"/\">\n",
            "        <h2>\n",
            "         The Sydney Morning Herald\n",
            "        </h2>\n",
            "       </a>\n",
            "      </div>\n",
            "     </div>\n",
            "     <div aria-hidden=\"true\" class=\"_2yAUQ\" id=\"navigation\">\n",
            "      <button class=\"_2dmHA\">\n",
            "       close\n",
            "      </button>\n",
            "      <form class=\"_3b67L\">\n",
            "       <label for=\"site-search\">\n",
            "        Search Site\n",
            "       </label>\n",
            "       <input class=\"_2q19s\" id=\"site-search\" name=\"query\" placeholder=\"Search\" type=\"search\" value=\"\"/>\n",
            "       <input class=\"JaNbC\" type=\"submit\" value=\"Search\"/>\n",
            "      </form>\n",
            "      <ul class=\"_2fq7t\" role=\"tablist\">\n",
            "       <li class=\"rGXdz\" role=\"presentation\">\n",
            "        <a aria-controls=\"sections\" aria-selected=\"true\" href=\"#sections\" id=\"navSections\" role=\"tab\" tabindex=\"0\">\n",
            "         Sections\n",
            "        </a>\n",
            "       </li>\n",
            "       <li class=\"\" role=\"presentation\">\n",
            "        <a aria-selected=\"false\" href=\"#network\" id=\"navNetwork\" role=\"tab\" tabindex=\"-1\">\n",
            "         Network\n",
            "        </a>\n",
            "       </li>\n",
            "      </ul>\n",
            "      <div class=\"RTABy\">\n",
            "       <nav aria-hidden=\"false\" aria-labelledby=\"navSections\" class=\"rGXdz _2PKwb\" role=\"tabpanel\">\n",
            "        <div>\n",
            "         <ul role=\"tree\">\n",
            "          <li class=\"\" role=\"treeitem\">\n",
            "           <a href=\"/\">\n",
            "            Home\n",
            "           </a>\n",
            "          </li>\n",
            "          <li class=\"\" role=\"treeitem\">\n",
            "           <a href=\"/sydney-news\" id=\"section-sydney\">\n",
            "            Sydney\n",
            "           </a>\n",
            "          </li>\n",
            "          <li class=\"\" role=\"treeitem\">\n",
            "           <a href=\"/national/nsw\" id=\"section-nsw\">\n",
            "            NSW\n",
            "           </a>\n",
            "          </li>\n",
            "          <li aria-expanded=\"false\" class=\"_3kQ2X\" role=\"treeitem\">\n",
            "           <a href=\"/politics\" id=\"section-politics\">\n",
            "            Politics\n",
            "           </a>\n",
            "           <button aria-controls=\"subsection-politics\" aria-expanded=\"false\" class=\"\">\n",
            "            <span class=\"_1KXcO\">\n",
            "             Show subsections\n",
            "            </span>\n",
            "            <span class=\"_35a30\">\n",
            "             <svg aria-hidden=\"true\" class=\"QMY9O\" focusable=\"false\" height=\"1em\" width=\"1em\">\n",
            "              <use xlink:href=\"#icon-arrowsdown\">\n",
            "              </use>\n",
            "             </svg>\n",
            "            </span>\n",
            "           </button>\n",
            "           <ul aria-hidden=\"true\" aria-labelledby=\"section-politics\" class=\"_3Nydp\" id=\"subsection-politics\" role=\"group\">\n",
            "            <li class=\"\" role=\"treeitem\">\n",
            "             <a href=\"/politics/federal\" id=\"section-politics-federal\">\n",
            "              Federal\n",
            "             </a>\n",
            "            </li>\n",
            "            <li class=\"\" role=\"treeitem\">\n",
            "             <a href=\"/politics/nsw\" id=\"section-politics-nsw\">\n",
            "              NSW\n",
            "             </a>\n",
            "            </li>\n",
            "            <li class=\"\" role=\"treeitem\">\n",
            "             <a href=\"/politics/victoria\" id=\"section-politics-victoria\">\n",
            "              Victoria\n",
            "             </a>\n",
            "            </li>\n",
            "            <li class=\"\" role=\"treeitem\">\n",
            "             <a href=\"/politics/queensland\" id=\"section-politics-queensland\">\n",
            "              Queensland\n",
            "             </a>\n",
            "            </li>\n",
            "            <li class=\"\" role=\"treeitem\">\n",
            "             <a href=\"/politics/western-australia\" id=\"section-politics-western-australia\">\n",
            "              Western Australia\n",
            "             </a>\n",
            "            </li>\n",
            "           </ul>\n",
            "          </li>\n",
            "          <li aria-expanded=\"false\" class=\"_3kQ2X\" role=\"treeitem\">\n",
            "           <a href=\"/business\" id=\"section-business\">\n",
            "            Business\n",
            "           </a>\n",
            "           <button aria-controls=\"subsection-business\" aria-expanded=\"false\" class=\"\">\n",
            "            <span class=\"_1KXcO\">\n",
            "             Show subsections\n",
            "            </span>\n",
            "            <span class=\"_35a30\">\n",
            "             <svg aria-hidden=\"true\" class=\"QMY9O\" focusable=\"false\" height=\"1em\" width=\"1em\">\n",
            "              <use xlink:href=\"#icon-arrowsdown\">\n",
            "              </use>\n",
            "             </svg>\n",
            "            </span>\n",
            "           </button>\n",
            "           <ul aria-hidden=\"true\" aria-labelledby=\"section-business\" class=\"_3Nydp\" id=\"subsection-business\" role=\"group\">\n",
            "            <li class=\"\" role=\"treeitem\">\n",
            "             <a href=\"/business/companies\" id=\"section-business-companies\">\n",
            "              Companies\n",
            "             </a>\n",
            "            </li>\n",
            "            <li class=\"\" role=\"treeitem\">\n",
            "             <a href=\"/business/markets\" id=\"section-business-markets\">\n",
            "              Markets\n",
            "             </a>\n",
            "            </li>\n",
            "            <li class=\"\" role=\"treeitem\">\n",
            "             <a href=\"/business/the-economy\" id=\"section-business-the-economy\">\n",
            "              The economy\n",
            "             </a>\n",
            "            </li>\n",
            "            <li class=\"\" role=\"treeitem\">\n",
            "             <a href=\"/business/banking-and-finance\" id=\"section-business-banking-&amp;-finance\">\n",
            "              Banking &amp; finance\n",
            "             </a>\n",
            "            </li>\n",
            "            <li class=\"\" role=\"treeitem\">\n",
            "             <a href=\"/business/small-business\" id=\"section-business-small-business\">\n",
            "              Small business\n",
            "             </a>\n",
            "            </li>\n",
            "            <li class=\"\" role=\"treeitem\">\n",
            "             <a href=\"/business/consumer-affairs\" id=\"section-business-consumer-affairs\">\n",
            "              Consumer affairs\n",
            "             </a>\n",
            "            </li>\n",
            "            <li class=\"\" role=\"treeitem\">\n",
            "             <a href=\"/business/workplace\" id=\"section-business-workplace\">\n",
            "              Workplace\n",
            "             </a>\n",
            "            </li>\n",
            "           </ul>\n",
            "          </li>\n",
            "          <li aria-expanded=\"false\" class=\"_3kQ2X\" role=\"treeitem\">\n",
            "           <a href=\"/world\" id=\"section-world\">\n",
            "            World\n",
            "           </a>\n",
            "           <button aria-controls=\"subsection-world\" aria-expanded=\"false\" class=\"\">\n",
            "            <span class=\"_1KXcO\">\n",
            "             Show subsections\n",
            "            </span>\n",
            "            <span class=\"_35a30\">\n",
            "             <svg aria-hidden=\"true\" class=\"QMY9O\" focusable=\"false\" height=\"1em\" width=\"1em\">\n",
            "              <use xlink:href=\"#icon-arrowsdown\">\n",
            "              </use>\n",
            "             </svg>\n",
            "            </span>\n",
            "           </button>\n",
            "           <ul aria-hidden=\"true\" aria-labelledby=\"section-world\" class=\"_3Nydp\" id=\"subsection-world\" role=\"group\">\n",
            "            <li class=\"\" role=\"treeitem\">\n",
            "             <a href=\"/world/north-america\" id=\"section-world-north-america\">\n",
            "              North America\n",
            "             </a>\n",
            "            </li>\n",
            "            <li class=\"\" role=\"treeitem\">\n",
            "             <a href=\"/world/europe\" id=\"section-world-europe\">\n",
            "              Europe\n",
            "             </a>\n",
            "            </li>\n",
            "            <li class=\"\" role=\"treeitem\">\n",
            "             <a href=\"/world/asia\" id=\"section-world-asia\">\n",
            "              Asia\n",
            "             </a>\n",
            "            </li>\n",
            "            <li class=\"\" role=\"treeitem\">\n",
            "             <a href=\"/world/middle-east\" id=\"section-world-middle-east\">\n",
            "              Middle East\n",
            "             </a>\n",
            "            </li>\n",
            "            <li class=\"\" role=\"treeitem\">\n",
            "             <a href=\"/world/oceania\" id=\"section-world-oceania\">\n",
            "              Oceania\n",
            "             </a>\n",
            "            </li>\n",
            "            <li class=\"\" role=\"treeitem\">\n",
            "             <a href=\"/world/central-america\" id=\"section-world-central-america\">\n",
            "              Central America\n",
            "             </a>\n",
            "            </li>\n",
            "            <li class=\"\" role=\"treeitem\">\n",
            "             <a href=\"/world/south-america\" id=\"section-world-south-america\">\n",
            "              South America\n",
            "             </a>\n",
            "            </li>\n",
            "            <li class=\"\" role=\"treeitem\">\n",
            "             <a href=\"/world/africa\" id=\"section-world-africa\">\n",
            "              Africa\n",
            "             </a>\n",
            "            </li>\n",
            "           </ul>\n",
            "          </li>\n",
            "          <li aria-expanded=\"false\" class=\"_3kQ2X\" role=\"treeitem\">\n",
            "           <a href=\"/national\" id=\"section-national\">\n",
            "            National\n",
            "           </a>\n",
            "           <button aria-controls=\"subsection-national\" aria-expanded=\"false\" class=\"\">\n",
            "            <span class=\"_1KXcO\">\n",
            "             Show subsections\n",
            "            </span>\n",
            "            <span class=\"_35a30\">\n",
            "             <svg aria-hidden=\"true\" class=\"QMY9O\" focusable=\"false\" height=\"1em\" width=\"1em\">\n",
            "              <use xlink:href=\"#icon-arrowsdown\">\n",
            "              </use>\n",
            "             </svg>\n",
            "            </span>\n",
            "           </button>\n",
            "           <ul aria-hidden=\"true\" aria-labelledby=\"section-national\" class=\"_3Nydp\" id=\"subsection-national\" role=\"group\">\n",
            "            <li class=\"\" role=\"treeitem\">\n",
            "             <a href=\"/national/victoria\" id=\"section-national-victoria\">\n",
            "              Victoria\n",
            "             </a>\n",
            "            </li>\n",
            "            <li class=\"\" role=\"treeitem\">\n",
            "             <a href=\"/national/queensland\" id=\"section-national-queensland\">\n",
            "              Queensland\n",
            "             </a>\n",
            "            </li>\n",
            "            <li class=\"\" role=\"treeitem\">\n",
            "             <a href=\"/national/western-australia\" id=\"section-national-western-australia\">\n",
            "              Western Australia\n",
            "             </a>\n",
            "            </li>\n",
            "           </ul>\n",
            "          </li>\n",
            "          <li class=\"\" role=\"treeitem\">\n",
            "           <a href=\"/opinion\" id=\"section-opinion\">\n",
            "            Opinion\n",
            "           </a>\n",
            "          </li>\n",
            "          <li class=\"\" role=\"treeitem\">\n",
            "           <a href=\"http://www.domain.com.au\">\n",
            "            Property\n",
            "           </a>\n",
            "          </li>\n",
            "          <li aria-expanded=\"false\" class=\"_3kQ2X\" role=\"treeitem\">\n",
            "           <a href=\"/sport\" id=\"section-sport\">\n",
            "            Sport\n",
            "           </a>\n",
            "           <button aria-controls=\"subsection-sport\" aria-expanded=\"false\" class=\"\">\n",
            "            <span class=\"_1KXcO\">\n",
            "             Show subsections\n",
            "            </span>\n",
            "            <span class=\"_35a30\">\n",
            "             <svg aria-hidden=\"true\" class=\"QMY9O\" focusable=\"false\" height=\"1em\" width=\"1em\">\n",
            "              <use xlink:href=\"#icon-arrowsdown\">\n",
            "              </use>\n",
            "             </svg>\n",
            "            </span>\n",
            "           </button>\n",
            "           <ul aria-hidden=\"true\" aria-labelledby=\"section-sport\" class=\"_3Nydp\" id=\"subsection-sport\" role=\"group\">\n",
            "            <li aria-expanded=\"false\" class=\"_3kQ2X\" role=\"treeitem\">\n",
            "             <a href=\"/sport/nrl\" id=\"section-sport-nrl\">\n",
            "              NRL\n",
            "             </a>\n",
            "            </li>\n",
            "            <li aria-expanded=\"false\" class=\"_3kQ2X\" role=\"treeitem\">\n",
            "             <a href=\"/sport/rugby-union\" id=\"section-sport-rugby-union\">\n",
            "              Rugby union\n",
            "             </a>\n",
            "            </li>\n",
            "            <li aria-expanded=\"false\" class=\"_3kQ2X\" role=\"treeitem\">\n",
            "             <a href=\"/sport/cricket\" id=\"section-sport-cricket\">\n",
            "              Cricket\n",
            "             </a>\n",
            "            </li>\n",
            "            <li class=\"\" role=\"treeitem\">\n",
            "             <a href=\"/sport/soccer\" id=\"section-sport-soccer\">\n",
            "              Soccer\n",
            "             </a>\n",
            "            </li>\n",
            "            <li aria-expanded=\"false\" class=\"_3kQ2X\" role=\"treeitem\">\n",
            "             <a href=\"/sport/afl\" id=\"section-sport-afl\">\n",
            "              AFL\n",
            "             </a>\n",
            "            </li>\n",
            "            <li class=\"\" role=\"treeitem\">\n",
            "             <a href=\"/sport/racing\" id=\"section-sport-racing\">\n",
            "              Racing\n",
            "             </a>\n",
            "            </li>\n",
            "            <li class=\"\" role=\"treeitem\">\n",
            "             <a href=\"/sport/tennis\" id=\"section-sport-tennis\">\n",
            "              Tennis\n",
            "             </a>\n",
            "            </li>\n",
            "            <li aria-expanded=\"false\" class=\"_3kQ2X\" role=\"treeitem\">\n",
            "             <a href=\"/sport/netball\" id=\"section-sport-netball\">\n",
            "              Netball\n",
            "             </a>\n",
            "            </li>\n",
            "            <li class=\"\" role=\"treeitem\">\n",
            "             <a href=\"/sport/basketball\" id=\"section-sport-basketball\">\n",
            "              Basketball\n",
            "             </a>\n",
            "            </li>\n",
            "            <li class=\"\" role=\"treeitem\">\n",
            "             <a href=\"/sport/motorsport\" id=\"section-sport-motorsport\">\n",
            "              Motorsport\n",
            "             </a>\n",
            "            </li>\n",
            "            <li class=\"\" role=\"treeitem\">\n",
            "             <a href=\"/sport/cycling\" id=\"section-sport-cycling\">\n",
            "              Cycling\n",
            "             </a>\n",
            "            </li>\n",
            "            <li class=\"\" role=\"treeitem\">\n",
            "             <a href=\"/sport/golf\" id=\"section-sport-golf\">\n",
            "              Golf\n",
            "             </a>\n",
            "            </li>\n",
            "            <li class=\"\" role=\"treeitem\">\n",
            "             <a href=\"/sport/nfl\" id=\"section-sport-nfl\">\n",
            "              NFL\n",
            "             </a>\n",
            "            </li>\n",
            "            <li class=\"\" role=\"treeitem\">\n",
            "             <a href=\"/sport/athletics\" id=\"section-sport-athletics\">\n",
            "              Athletics\n",
            "             </a>\n",
            "            </li>\n",
            "            <li class=\"\" role=\"treeitem\">\n",
            "             <a href=\"/sport/swimming\" id=\"section-sport-swimming\">\n",
            "              Swimming\n",
            "             </a>\n",
            "            </li>\n",
            "            <li class=\"\" role=\"treeitem\">\n",
            "             <a href=\"/sport/boxing\" id=\"section-sport-boxing\">\n",
            "              Boxing\n",
            "             </a>\n",
            "            </li>\n",
            "           </ul>\n",
            "          </li>\n",
            "          <li aria-expanded=\"false\" class=\"_3kQ2X\" role=\"treeitem\">\n",
            "           <a href=\"/culture\" id=\"section-culture\">\n",
            "            Culture\n",
            "           </a>\n",
            "           <button aria-controls=\"subsection-culture\" aria-expanded=\"false\" class=\"\">\n",
            "            <span class=\"_1KXcO\">\n",
            "             Show subsections\n",
            "            </span>\n",
            "            <span class=\"_35a30\">\n",
            "             <svg aria-hidden=\"true\" class=\"QMY9O\" focusable=\"false\" height=\"1em\" width=\"1em\">\n",
            "              <use xlink:href=\"#icon-arrowsdown\">\n",
            "              </use>\n",
            "             </svg>\n",
            "            </span>\n",
            "           </button>\n",
            "           <ul aria-hidden=\"true\" aria-labelledby=\"section-culture\" class=\"_3Nydp\" id=\"subsection-culture\" role=\"group\">\n",
            "            <li class=\"\" role=\"treeitem\">\n",
            "             <a href=\"/culture/movies\" id=\"section-culture-movies\">\n",
            "              Movies\n",
            "             </a>\n",
            "            </li>\n",
            "            <li aria-expanded=\"false\" class=\"_3kQ2X\" role=\"treeitem\">\n",
            "             <a href=\"/culture/tv-and-radio\" id=\"section-culture-tv-&amp;-radio\">\n",
            "              TV &amp; radio\n",
            "             </a>\n",
            "            </li>\n",
            "            <li class=\"\" role=\"treeitem\">\n",
            "             <a href=\"/culture/music\" id=\"section-culture-music\">\n",
            "              Music\n",
            "             </a>\n",
            "            </li>\n",
            "            <li class=\"\" role=\"treeitem\">\n",
            "             <a href=\"/culture/celebrity\" id=\"section-culture-celebrity\">\n",
            "              Celebrity\n",
            "             </a>\n",
            "            </li>\n",
            "            <li class=\"\" role=\"treeitem\">\n",
            "             <a href=\"/culture/books\" id=\"section-culture-books\">\n",
            "              Books\n",
            "             </a>\n",
            "            </li>\n",
            "            <li class=\"\" role=\"treeitem\">\n",
            "             <a href=\"/culture/comedy\" id=\"section-culture-comedy\">\n",
            "              Comedy\n",
            "             </a>\n",
            "            </li>\n",
            "            <li class=\"\" role=\"treeitem\">\n",
            "             <a href=\"/culture/dance\" id=\"section-culture-dance\">\n",
            "              Dance\n",
            "             </a>\n",
            "            </li>\n",
            "            <li class=\"\" role=\"treeitem\">\n",
            "             <a href=\"/culture/musicals\" id=\"section-culture-musicals\">\n",
            "              Musicals\n",
            "             </a>\n",
            "            </li>\n",
            "            <li class=\"\" role=\"treeitem\">\n",
            "             <a href=\"/culture/opera\" id=\"section-culture-opera\">\n",
            "              Opera\n",
            "             </a>\n",
            "            </li>\n",
            "            <li class=\"\" role=\"treeitem\">\n",
            "             <a href=\"/culture/theatre\" id=\"section-culture-theatre\">\n",
            "              Theatre\n",
            "             </a>\n",
            "            </li>\n",
            "            <li class=\"\" role=\"treeitem\">\n",
            "             <a href=\"/culture/art-and-design\" id=\"section-culture-art-&amp;-design\">\n",
            "              Art &amp; design\n",
            "             </a>\n",
            "            </li>\n",
            "            <li class=\"\" role=\"treeitem\">\n",
            "             <a href=\"https://tvguide.smh.com.au\">\n",
            "              TV guide\n",
            "             </a>\n",
            "            </li>\n",
            "           </ul>\n",
            "          </li>\n",
            "          <li aria-expanded=\"false\" class=\"_3kQ2X\" role=\"treeitem\">\n",
            "           <a href=\"/lifestyle\" id=\"section-lifestyle\">\n",
            "            Lifestyle\n",
            "           </a>\n",
            "           <button aria-controls=\"subsection-lifestyle\" aria-expanded=\"false\" class=\"\">\n",
            "            <span class=\"_1KXcO\">\n",
            "             Show subsections\n",
            "            </span>\n",
            "            <span class=\"_35a30\">\n",
            "             <svg aria-hidden=\"true\" class=\"QMY9O\" focusable=\"false\" height=\"1em\" width=\"1em\">\n",
            "              <use xlink:href=\"#icon-arrowsdown\">\n",
            "              </use>\n",
            "             </svg>\n",
            "            </span>\n",
            "           </button>\n",
            "           <ul aria-hidden=\"true\" aria-labelledby=\"section-lifestyle\" class=\"_3Nydp\" id=\"subsection-lifestyle\" role=\"group\">\n",
            "            <li class=\"\" role=\"treeitem\">\n",
            "             <a href=\"/lifestyle/life-and-relationships\" id=\"section-lifestyle-life-&amp;-relationships\">\n",
            "              Life &amp; relationships\n",
            "             </a>\n",
            "            </li>\n",
            "            <li class=\"\" role=\"treeitem\">\n",
            "             <a href=\"/lifestyle/health-and-wellness\" id=\"section-lifestyle-health-&amp;-wellness\">\n",
            "              Health &amp; wellness\n",
            "             </a>\n",
            "            </li>\n",
            "            <li class=\"\" role=\"treeitem\">\n",
            "             <a href=\"/lifestyle/gender\" id=\"section-lifestyle-gender\">\n",
            "              Gender\n",
            "             </a>\n",
            "            </li>\n",
            "            <li class=\"\" role=\"treeitem\">\n",
            "             <a href=\"/lifestyle/fashion\" id=\"section-lifestyle-fashion\">\n",
            "              Fashion\n",
            "             </a>\n",
            "            </li>\n",
            "            <li class=\"\" role=\"treeitem\">\n",
            "             <a href=\"/lifestyle/beauty\" id=\"section-lifestyle-beauty\">\n",
            "              Beauty\n",
            "             </a>\n",
            "            </li>\n",
            "            <li class=\"\" role=\"treeitem\">\n",
            "             <a href=\"/topic/horoscopes-5yc\" id=\"section-lifestyle-horoscopes\">\n",
            "              Horoscopes\n",
            "             </a>\n",
            "            </li>\n",
            "           </ul>\n",
            "          </li>\n",
            "          <li class=\"\" role=\"treeitem\">\n",
            "           <a href=\"/topic/good-weekend-1qq\" id=\"section-good-weekend\">\n",
            "            Good Weekend\n",
            "           </a>\n",
            "          </li>\n",
            "          <li aria-expanded=\"false\" class=\"_3kQ2X\" role=\"treeitem\">\n",
            "           <a href=\"/money\" id=\"section-money\">\n",
            "            Money\n",
            "           </a>\n",
            "           <button aria-controls=\"subsection-money\" aria-expanded=\"false\" class=\"\">\n",
            "            <span class=\"_1KXcO\">\n",
            "             Show subsections\n",
            "            </span>\n",
            "            <span class=\"_35a30\">\n",
            "             <svg aria-hidden=\"true\" class=\"QMY9O\" focusable=\"false\" height=\"1em\" width=\"1em\">\n",
            "              <use xlink:href=\"#icon-arrowsdown\">\n",
            "              </use>\n",
            "             </svg>\n",
            "            </span>\n",
            "           </button>\n",
            "           <ul aria-hidden=\"true\" aria-labelledby=\"section-money\" class=\"_3Nydp\" id=\"subsection-money\" role=\"group\">\n",
            "            <li class=\"\" role=\"treeitem\">\n",
            "             <a href=\"/money/super-and-retirement\" id=\"section-money-super-&amp;-retirement\">\n",
            "              Super &amp; retirement\n",
            "             </a>\n",
            "            </li>\n",
            "            <li class=\"\" role=\"treeitem\">\n",
            "             <a href=\"/money/investing\" id=\"section-money-investing\">\n",
            "              Investing\n",
            "             </a>\n",
            "            </li>\n",
            "            <li class=\"\" role=\"treeitem\">\n",
            "             <a href=\"/money/banking\" id=\"section-money-banking\">\n",
            "              Banking\n",
            "             </a>\n",
            "            </li>\n",
            "            <li class=\"\" role=\"treeitem\">\n",
            "             <a href=\"/money/borrowing\" id=\"section-money-borrowing\">\n",
            "              Borrowing\n",
            "             </a>\n",
            "            </li>\n",
            "            <li class=\"\" role=\"treeitem\">\n",
            "             <a href=\"/money/saving\" id=\"section-money-saving\">\n",
            "              Saving\n",
            "             </a>\n",
            "            </li>\n",
            "            <li class=\"\" role=\"treeitem\">\n",
            "             <a href=\"/money/tax\" id=\"section-money-tax\">\n",
            "              Tax\n",
            "             </a>\n",
            "            </li>\n",
            "            <li class=\"\" role=\"treeitem\">\n",
            "             <a href=\"/money/planning-and-budgeting\" id=\"section-money-planning-&amp;-budgeting\">\n",
            "              Planning &amp; budgeting\n",
            "             </a>\n",
            "            </li>\n",
            "            <li class=\"\" role=\"treeitem\">\n",
            "             <a href=\"/money/insurance\" id=\"section-money-insurance\">\n",
            "              Insurance\n",
            "             </a>\n",
            "            </li>\n",
            "           </ul>\n",
            "          </li>\n",
            "          <li class=\"\" role=\"treeitem\">\n",
            "           <a href=\"/education\" id=\"section-education\">\n",
            "            Education\n",
            "           </a>\n",
            "          </li>\n",
            "          <li class=\"\" role=\"treeitem\">\n",
            "           <a href=\"/healthcare\" id=\"section-healthcare\">\n",
            "            Healthcare\n",
            "           </a>\n",
            "          </li>\n",
            "          <li aria-expanded=\"false\" class=\"_3kQ2X\" role=\"treeitem\">\n",
            "           <a href=\"/environment\" id=\"section-environment\">\n",
            "            Environment\n",
            "           </a>\n",
            "           <button aria-controls=\"subsection-environment\" aria-expanded=\"false\" class=\"\">\n",
            "            <span class=\"_1KXcO\">\n",
            "             Show subsections\n",
            "            </span>\n",
            "            <span class=\"_35a30\">\n",
            "             <svg aria-hidden=\"true\" class=\"QMY9O\" focusable=\"false\" height=\"1em\" width=\"1em\">\n",
            "              <use xlink:href=\"#icon-arrowsdown\">\n",
            "              </use>\n",
            "             </svg>\n",
            "            </span>\n",
            "           </button>\n",
            "           <ul aria-hidden=\"true\" aria-labelledby=\"section-environment\" class=\"_3Nydp\" id=\"subsection-environment\" role=\"group\">\n",
            "            <li class=\"\" role=\"treeitem\">\n",
            "             <a href=\"/environment/conservation\" id=\"section-environment-conservation\">\n",
            "              Conservation\n",
            "             </a>\n",
            "            </li>\n",
            "            <li class=\"\" role=\"treeitem\">\n",
            "             <a href=\"/environment/climate-change\" id=\"section-environment-climate-change\">\n",
            "              Climate change\n",
            "             </a>\n",
            "            </li>\n",
            "            <li class=\"\" role=\"treeitem\">\n",
            "             <a href=\"/environment/sustainability\" id=\"section-environment-sustainability\">\n",
            "              Sustainability\n",
            "             </a>\n",
            "            </li>\n",
            "            <li class=\"\" role=\"treeitem\">\n",
            "             <a href=\"/environment/weather\" id=\"section-environment-weather\">\n",
            "              Weather\n",
            "             </a>\n",
            "            </li>\n",
            "           </ul>\n",
            "          </li>\n",
            "          <li aria-expanded=\"false\" class=\"_3kQ2X\" role=\"treeitem\">\n",
            "           <a href=\"/technology\" id=\"section-technology\">\n",
            "            Technology\n",
            "           </a>\n",
            "           <button aria-controls=\"subsection-technology\" aria-expanded=\"false\" class=\"\">\n",
            "            <span class=\"_1KXcO\">\n",
            "             Show subsections\n",
            "            </span>\n",
            "            <span class=\"_35a30\">\n",
            "             <svg aria-hidden=\"true\" class=\"QMY9O\" focusable=\"false\" height=\"1em\" width=\"1em\">\n",
            "              <use xlink:href=\"#icon-arrowsdown\">\n",
            "              </use>\n",
            "             </svg>\n",
            "            </span>\n",
            "           </button>\n",
            "           <ul aria-hidden=\"true\" aria-labelledby=\"section-technology\" class=\"_3Nydp\" id=\"subsection-technology\" role=\"group\">\n",
            "            <li class=\"\" role=\"treeitem\">\n",
            "             <a href=\"/technology/video-games\" id=\"section-technology-video-games\">\n",
            "              Video games\n",
            "             </a>\n",
            "            </li>\n",
            "            <li class=\"\" role=\"treeitem\">\n",
            "             <a href=\"/topic/home-technology-hqq\" id=\"section-technology-home-tech\">\n",
            "              Home tech\n",
            "             </a>\n",
            "            </li>\n",
            "            <li class=\"\" role=\"treeitem\">\n",
            "             <a href=\"/topic/phones-5zt\" id=\"section-technology-phones\">\n",
            "              Phones\n",
            "             </a>\n",
            "            </li>\n",
            "            <li class=\"\" role=\"treeitem\">\n",
            "             <a href=\"/topic/gadgets-hqp\" id=\"section-technology-gadgets\">\n",
            "              Gadgets\n",
            "             </a>\n",
            "            </li>\n",
            "           </ul>\n",
            "          </li>\n",
            "          <li class=\"\" role=\"treeitem\">\n",
            "           <a href=\"http://www.drive.com.au\">\n",
            "            Drive\n",
            "           </a>\n",
            "          </li>\n",
            "          <li class=\"\" role=\"treeitem\">\n",
            "           <a href=\"http://www.traveller.com.au\">\n",
            "            Traveller\n",
            "           </a>\n",
            "          </li>\n",
            "          <li class=\"\" role=\"treeitem\">\n",
            "           <a href=\"http://www.goodfood.com.au\">\n",
            "            Good Food\n",
            "           </a>\n",
            "          </li>\n",
            "          <li class=\"\" role=\"treeitem\">\n",
            "           <a href=\"http://www.executivestyle.com.au\">\n",
            "            Executive style\n",
            "           </a>\n",
            "          </li>\n",
            "         </ul>\n",
            "         <ul class=\"Uffnp _20nQY _375G7\" role=\"tree\">\n",
            "          <li>\n",
            "           <h4>\n",
            "            Premium\n",
            "           </h4>\n",
            "           <a class=\"Khnen _1Zci0 _3_hLE _252xb\" data-ffx-event-action=\"cta click\" data-ffx-event-attribute=\"menu\" data-ffx-event-category=\"component\" data-ffx-event-label=\"subscribe\" data-ffx-hittype=\"event\" href=\"https://subscribe.smh.com.au/2?promote_channel=HI_IPL_GNL&amp;utm_source=PremiumIndex&amp;utm_medium=HouseInventory&amp;utm_campaign=General\">\n",
            "            Subscribe\n",
            "           </a>\n",
            "          </li>\n",
            "          <li role=\"treeitem\">\n",
            "           <a data-ffx-event-action=\"cta click\" data-ffx-event-attribute=\"menu\" data-ffx-event-category=\"component\" data-ffx-event-label=\"todays paper\" data-ffx-hittype=\"event\" href=\"/todays-newspaper\" id=\"section-today’s-paper\">\n",
            "            <svg aria-hidden=\"true\" class=\"QMY9O\" focusable=\"false\" height=\"24px\" width=\"24px\">\n",
            "             <use xlink:href=\"#icon-menu-todays-paper\">\n",
            "             </use>\n",
            "            </svg>\n",
            "            Today’s Paper\n",
            "           </a>\n",
            "          </li>\n",
            "          <li role=\"treeitem\">\n",
            "           <a data-ffx-event-action=\"cta click\" data-ffx-event-attribute=\"menu\" data-ffx-event-category=\"component\" data-ffx-event-label=\"crosswords\" data-ffx-hittype=\"event\" href=\"/puzzles/crosswords\" id=\"section-daily-crosswords\">\n",
            "            <svg aria-hidden=\"true\" class=\"QMY9O\" focusable=\"false\" height=\"24px\" width=\"24px\">\n",
            "             <use xlink:href=\"#icon-menu-crossword\">\n",
            "             </use>\n",
            "            </svg>\n",
            "            Daily Crosswords\n",
            "           </a>\n",
            "          </li>\n",
            "         </ul>\n",
            "         <ul class=\"Uffnp _20nQY undefined\" role=\"tree\">\n",
            "          <li>\n",
            "           <h4>\n",
            "            More\n",
            "           </h4>\n",
            "          </li>\n",
            "          <li role=\"treeitem\">\n",
            "           <a href=\"/topic/smh-letters-1r7\" id=\"section-letters\">\n",
            "            Letters\n",
            "           </a>\n",
            "          </li>\n",
            "          <li role=\"treeitem\">\n",
            "           <a href=\"/topic/smh-editorial-1r6\" id=\"section-editorial\">\n",
            "            Editorial\n",
            "           </a>\n",
            "          </li>\n",
            "          <li role=\"treeitem\">\n",
            "           <a href=\"/topic/column-8-1r4\" id=\"section-column-8\">\n",
            "            Column 8\n",
            "           </a>\n",
            "          </li>\n",
            "          <li role=\"treeitem\">\n",
            "           <a href=\"/topic/obituaries-1qv\" id=\"section-obituaries\">\n",
            "            Obituaries\n",
            "           </a>\n",
            "          </li>\n",
            "          <li role=\"treeitem\">\n",
            "           <a href=\"/topic/explainers-1lz9\" id=\"section-explainers\">\n",
            "            Explainers\n",
            "           </a>\n",
            "          </li>\n",
            "          <li role=\"treeitem\">\n",
            "           <a href=\"/topic/quizzes-1qx\" id=\"section-quizzes\">\n",
            "            Quizzes\n",
            "           </a>\n",
            "          </li>\n",
            "          <li role=\"treeitem\">\n",
            "           <a href=\"http://weather.smh.com.au/local-forecast/nsw/sydney\" id=\"section-weather\">\n",
            "            Weather\n",
            "           </a>\n",
            "          </li>\n",
            "         </ul>\n",
            "        </div>\n",
            "       </nav>\n",
            "       <nav aria-hidden=\"true\" aria-labelledby=\"navNetwork\" class=\"_2PKwb\" role=\"tabpanel\">\n",
            "        <div class=\"_2fv33\">\n",
            "         <ul class=\"_32aAr\">\n",
            "          <li class=\"_1IQO_\">\n",
            "           The Sydney Morning Herald\n",
            "          </li>\n",
            "          <li>\n",
            "           <a href=\"https://www.theage.com.au\">\n",
            "            The Age\n",
            "           </a>\n",
            "          </li>\n",
            "          <li>\n",
            "           <a href=\"https://www.brisbanetimes.com.au\">\n",
            "            Brisbane Times\n",
            "           </a>\n",
            "          </li>\n",
            "          <li>\n",
            "           <a href=\"https://www.watoday.com.au\">\n",
            "            WAtoday\n",
            "           </a>\n",
            "          </li>\n",
            "          <li>\n",
            "           <a href=\"https://www.afr.com\">\n",
            "            The Australian Financial Review\n",
            "           </a>\n",
            "          </li>\n",
            "         </ul>\n",
            "         <ul class=\"_32aAr\">\n",
            "          <li>\n",
            "           <a href=\"https://www.domain.com.au\">\n",
            "            Domain\n",
            "           </a>\n",
            "          </li>\n",
            "          <li>\n",
            "           <a href=\"https://www.commercialrealestate.com.au\">\n",
            "            Commercial Real Estate\n",
            "           </a>\n",
            "          </li>\n",
            "          <li>\n",
            "           <a href=\"https://www.drive.com.au\">\n",
            "            Drive\n",
            "           </a>\n",
            "          </li>\n",
            "          <li>\n",
            "           <a href=\"https://www.goodfood.com.au\">\n",
            "            Good Food\n",
            "           </a>\n",
            "          </li>\n",
            "          <li>\n",
            "           <a href=\"http://www.traveller.com.au\">\n",
            "            Traveller\n",
            "           </a>\n",
            "          </li>\n",
            "          <li>\n",
            "           <a href=\"http://www.executivestyle.com.au\">\n",
            "            Executive Style\n",
            "           </a>\n",
            "          </li>\n",
            "         </ul>\n",
            "         <ul class=\"_32aAr\">\n",
            "          <li>\n",
            "           <a href=\"https://www.findababysitter.com.au\">\n",
            "            Find A Babysitter\n",
            "           </a>\n",
            "          </li>\n",
            "          <li>\n",
            "           <a href=\"https://www.thestore.com.au\">\n",
            "            The Store\n",
            "           </a>\n",
            "          </li>\n",
            "          <li>\n",
            "           <a href=\"http://www.weatherzone.com.au\">\n",
            "            Weatherzone\n",
            "           </a>\n",
            "          </li>\n",
            "          <li>\n",
            "           <a href=\"https://www.rsvp.com.au\">\n",
            "            RSVP\n",
            "           </a>\n",
            "          </li>\n",
            "         </ul>\n",
            "        </div>\n",
            "       </nav>\n",
            "      </div>\n",
            "     </div>\n",
            "     <div id=\"content\">\n",
            "      <div class=\"_1JART _3ECgH _2TEVJ OK924\">\n",
            "       <div class=\"_34z61 _2iGMx\">\n",
            "        <div class=\"adWrapper _2UMq- noPrint\">\n",
            "         <small class=\"_3ToRr\">\n",
            "          Advertisement\n",
            "         </small>\n",
            "         <div class=\"undefined\" id=\"adspot-970x250_728x90-pos1\">\n",
            "         </div>\n",
            "        </div>\n",
            "       </div>\n",
            "       <article class=\"_2yRSr\">\n",
            "        <header class=\"_2-5AL\">\n",
            "         <div class=\"_2JwnJ\">\n",
            "          <div class=\"JwYux\">\n",
            "           <div class=\"_2YAR2\">\n",
            "            <ul>\n",
            "             <li class=\"_3wukJ\">\n",
            "              <a href=\"/national\" title=\"National\">\n",
            "               National\n",
            "              </a>\n",
            "             </li>\n",
            "             <li class=\"_3wukJ\">\n",
            "              <a href=\"/national/nsw\" title=\"NSW\">\n",
            "               NSW\n",
            "              </a>\n",
            "             </li>\n",
            "             <li class=\"_1pMb9\">\n",
            "              <a href=\"/coronavirus-pandemic\" title=\"Coronavirus pandemic\">\n",
            "               Coronavirus pandemic\n",
            "              </a>\n",
            "             </li>\n",
            "            </ul>\n",
            "           </div>\n",
            "           <h1 itemprop=\"headline\">\n",
            "            University of Sydney to move fully online while Macquarie cancels classes\n",
            "           </h1>\n",
            "          </div>\n",
            "         </div>\n",
            "        </header>\n",
            "        <div class=\"_2-kFE xx59n\">\n",
            "         For our free coronavirus pandemic coverage,\n",
            "         <!-- -->\n",
            "         <a href=\"/national/how-we-re-keeping-you-informed-during-this-crisis-20200324-p54db0.html\">\n",
            "          learn more here.\n",
            "         </a>\n",
            "        </div>\n",
            "        <aside class=\"_1ki1P\">\n",
            "         <section class=\"_3eMES\">\n",
            "          <div class=\"_1mseD\">\n",
            "           <h5 class=\"_2FyET\">\n",
            "            By\n",
            "            <!-- -->\n",
            "            <span itemprop=\"author\" itemscope=\"\" itemtype=\"http://schema.org/Person\">\n",
            "             <span>\n",
            "              <span itemprop=\"name\">\n",
            "               <a href=\"/by/natassia-chrysanthos-h17jwj\" title=\"Articles by Natassia Chrysanthos\">\n",
            "                Natassia Chrysanthos\n",
            "               </a>\n",
            "              </span>\n",
            "              and\n",
            "              <span itemprop=\"name\">\n",
            "               <a href=\"/by/anna-patty-hvebs\" title=\"Articles by Anna Patty\">\n",
            "                Anna Patty\n",
            "               </a>\n",
            "              </span>\n",
            "             </span>\n",
            "            </span>\n",
            "           </h5>\n",
            "           <div class=\"_3xKNx\">\n",
            "            <span class=\"_1IjU5\">\n",
            "             Updated\n",
            "            </span>\n",
            "            <span class=\"_2xetH\">\n",
            "             <time class=\"_2_zR-\" datetime=\"2020-03-17T18:07:15+11:00\">\n",
            "              March 17, 2020 — 6.07pm\n",
            "             </time>\n",
            "            </span>\n",
            "            <span class=\"_2tV7D\" hidden=\"\">\n",
            "             first published\n",
            "             <!-- -->\n",
            "             at\n",
            "             <time class=\"_2_zR-\" datetime=\"2020-03-17T11:38:26+11:00\">\n",
            "              11.38am\n",
            "             </time>\n",
            "            </span>\n",
            "           </div>\n",
            "          </div>\n",
            "          <div class=\"_2m3HK noPrint\">\n",
            "           <div class=\"_2Cn91\">\n",
            "            <div class=\"_2KkCz\">\n",
            "             <button class=\"_30X7v _2-NUy\">\n",
            "              Normal text size\n",
            "             </button>\n",
            "             <button class=\"_3Rq_0\">\n",
            "              Larger text size\n",
            "             </button>\n",
            "             <button class=\"_3VkdU\">\n",
            "              Very large text size\n",
            "             </button>\n",
            "            </div>\n",
            "           </div>\n",
            "          </div>\n",
            "         </section>\n",
            "        </aside>\n",
            "        <section class=\"_1ysFk\">\n",
            "         <div class=\"_1665V undefined\">\n",
            "          <p>\n",
            "           The University of Sydney will suspend all face-to-face teaching from Monday and move fully online while Macquarie University has cancelled classes altogether in order to make the digital transition, revealing one of its students tested positive for COVID-19.\n",
            "          </p>\n",
            "          <p>\n",
            "           The University of Sydney's 10,000 staff members have been encouraged to work remotely to slow the spread of coronavirus, but the campus Wi-Fi network and facilities will remain open with enhanced cleaning protocols and social distancing measures.\n",
            "          </p>\n",
            "          <figure class=\"_3ujPS _3x3-4\">\n",
            "           <div aria-label=\"enlarge image\" class=\"_1lwW_\" role=\"button\" tabindex=\"0\">\n",
            "            <picture class=\"\">\n",
            "             <source media=\"(min-width: 1024px)\" srcset=\"https://static.ffx.io/images/$zoom_0.378%2C$multiply_1.0582%2C$ratio_1.5%2C$width_756%2C$x_0%2C$y_0/t_crop_custom/q_86%2Cf_auto/a55013287ad8bff02b821a4b1e189316a0ca3580, https://static.ffx.io/images/$zoom_0.378%2C$multiply_2.1164%2C$ratio_1.5%2C$width_756%2C$x_0%2C$y_0/t_crop_custom/q_62%2Cf_auto/a55013287ad8bff02b821a4b1e189316a0ca3580 2x\"/>\n",
            "             <source media=\"(min-width: 768px)\" srcset=\"https://static.ffx.io/images/$zoom_0.378%2C$multiply_0.963%2C$ratio_1.5%2C$width_756%2C$x_0%2C$y_0/t_crop_custom/q_86%2Cf_auto/a55013287ad8bff02b821a4b1e189316a0ca3580, https://static.ffx.io/images/$zoom_0.378%2C$multiply_1.9259%2C$ratio_1.5%2C$width_756%2C$x_0%2C$y_0/t_crop_custom/q_62%2Cf_auto/a55013287ad8bff02b821a4b1e189316a0ca3580 2x\"/>\n",
            "             <img alt=\"Sydney University will move fully online from next week.\" src=\"https://static.ffx.io/images/$zoom_0.378%2C$multiply_0.4431%2C$ratio_1.5%2C$width_756%2C$x_0%2C$y_0/t_crop_custom/q_86%2Cf_auto/a55013287ad8bff02b821a4b1e189316a0ca3580\" srcset=\"https://static.ffx.io/images/$zoom_0.378%2C$multiply_0.4431%2C$ratio_1.5%2C$width_756%2C$x_0%2C$y_0/t_crop_custom/q_86%2Cf_auto/a55013287ad8bff02b821a4b1e189316a0ca3580, https://static.ffx.io/images/$zoom_0.378%2C$multiply_0.8862%2C$ratio_1.5%2C$width_756%2C$x_0%2C$y_0/t_crop_custom/q_62%2Cf_auto/a55013287ad8bff02b821a4b1e189316a0ca3580 2x\"/>\n",
            "            </picture>\n",
            "           </div>\n",
            "           <figcaption class=\"_3CZmy\">\n",
            "            <p>\n",
            "             <span class=\"_2Li3P\">\n",
            "              Sydney University will move fully online from next week.\n",
            "             </span>\n",
            "             <cite class=\"ojLwA\">\n",
            "              <span class=\"_30ROC\">\n",
            "               Credit:\n",
            "              </span>\n",
            "              Louise Kennerley\n",
            "             </cite>\n",
            "            </p>\n",
            "           </figcaption>\n",
            "          </figure>\n",
            "          <p>\n",
            "           Courses with labs and practical components will be adapted for online or suspended until later in the semester while clinical placements for health students will go ahead under strict guidelines, Vice-Chancellor Michael Spence wrote to staff on Tuesday afternoon.\n",
            "          </p>\n",
            "          <p>\n",
            "           \"We are anticipating this will be for the whole of semester and we’re planning on that,\" Dr Spence told the\n",
            "           <em>\n",
            "            Herald.\n",
            "           </em>\n",
            "           He said some business school courses had been designed from scratch, while teachers would adapt other courses throughout semester based on student feedback.\n",
            "          </p>\n",
            "         </div>\n",
            "        </section>\n",
            "        <div class=\"_1FVfK\">\n",
            "         <div class=\"adWrapper _2UMq- noPrint\">\n",
            "          <small class=\"_3ToRr\">\n",
            "           Advertisement\n",
            "          </small>\n",
            "          <div class=\"undefined\" id=\"adspot-970x250_728x90-pos2\">\n",
            "          </div>\n",
            "         </div>\n",
            "        </div>\n",
            "        <section class=\"vPaWe\">\n",
            "         <div class=\"_1ysFk\">\n",
            "          <div class=\"_1665V undefined\">\n",
            "           <p>\n",
            "            \"We’ve put a lot of effort and thought into how to do it. I think this is a tremendous opportunity. This could be an interesting pedagogical experiment,\" he said.\n",
            "           </p>\n",
            "           <p>\n",
            "            The university\n",
            "            <a href=\"/link/follow-20170101-p546ef\">\n",
            "             has already projected $200 million losses due to coronavirus\n",
            "            </a>\n",
            "            . Dr Spence said the expense of adapting courses, bolstering IT systems and student support would \"cost us more overall\" than regular teaching.\n",
            "           </p>\n",
            "           <p>\n",
            "            \"At the moment we have to spend money to put education online to make sure our students' experience is uninterrupted as possible. There has been an overwhelming response from students that [is what they want].\"\n",
            "           </p>\n",
            "           <p>\n",
            "            Universities Australia deputy chief executive officer Anne-Marie Lansdown said 39 universities were providing online learning where possible amid the coronavirus pandemic. She said the challenge was increasing the amount of content that can be put online in a very short period of time.\n",
            "           </p>\n",
            "           <p>\n",
            "            \"For some courses it will be much harder – especially those with significant practical or technical requirements,\" Ms Lansdown said. \"In the case of practical-based learning, where online may not be possible, universities are offering maximum flexibility, including delaying or deferring those components.\"\n",
            "           </p>\n",
            "          </div>\n",
            "          <div class=\"_1lC_G\">\n",
            "          </div>\n",
            "          <div class=\"_1665V undefined\">\n",
            "           <div class=\"ymInT _3uJpn noPrint\">\n",
            "            <span class=\"_2wzgv D5idv _3lVFK\">\n",
            "             <span class=\"_29Qt8\">\n",
            "             </span>\n",
            "             <span class=\"_3qqDc\">\n",
            "              Loading\n",
            "             </span>\n",
            "            </span>\n",
            "           </div>\n",
            "           <p>\n",
            "            Macquarie Vice-Chancellor Professor Bruce Dowton said in an email to staff on Tuesday morning that face-to-face and online teaching will be suspended for 12 days from Wednesday while the university transitions to online delivery of lectures and seminars.\n",
            "           </p>\n",
            "           <p>\n",
            "            \"It will also allow us to redesign campus-based delivery of our units to modes that support social distancing and remote support,\" he said.\n",
            "           </p>\n",
            "           <p>\n",
            "            Hours later, Macquarie confirmed a student had tested positive for COVID-19 the day before, and that several locations on campus had been cleaned overnight.\n",
            "           </p>\n",
            "           <p>\n",
            "            \"The current advice is that the rest of campus can continue to operate as normal after the completion of intensive cleaning operations and in line with ... moving to increase online delivery of educational programs,\" a spokesperson said.\n",
            "           </p>\n",
            "          </div>\n",
            "          <div class=\"_1lC_G\">\n",
            "          </div>\n",
            "          <div class=\"_1665V undefined\">\n",
            "           <p>\n",
            "            But students were concerned they had not been told where the infected student had been on campus and whether some needed to self-isolate.\n",
            "           </p>\n",
            "           <p>\n",
            "            \"Many of the students are shocked that we could be left in the dark and that the university has not been able to make decisions for weeks about how to handle the virus situation,\" one student, who requested anonymity, said.\n",
            "           </p>\n",
            "           <p>\n",
            "            The surrounding area of Macquarie Park was\n",
            "            <a href=\"/link/follow-20170101-p546lf\">\n",
            "             the first hotspot for coronavirus community transmission in Sydney\n",
            "            </a>\n",
            "            . Macquarie's mid-semester Easter break, due to take place between April 13-26, will now be a normal teaching period. Staff have been encouraged to work from home and non-essential events will been cancelled.\n",
            "           </p>\n",
            "           <p>\n",
            "            The University of NSW on Tuesday confirmed a third student tested positive for COVID-19 and had exhibited mild symptoms while in a three-hour evening science class last week.\n",
            "           </p>\n",
            "           <p>\n",
            "            UNSW is\n",
            "            <a href=\"/link/follow-20170101-p54ag0\">\n",
            "             making a quick transition to online learning\n",
            "            </a>\n",
            "            and its law school, which does not routinely record its lectures, will cease face-to-face lessons from Wednesday to move all classes online.\n",
            "           </p>\n",
            "          </div>\n",
            "          <div class=\"_1lC_G\">\n",
            "          </div>\n",
            "          <div class=\"_1665V undefined\">\n",
            "           <p>\n",
            "            \"We are currently working to finalise details around classes and, down the track, assessment... There will be some changes to the way that courses are delivered, including to involve more online activities as a replacement for classroom face-to-face discussions. Those are likely to evolve over the term,\" acting head of the law school Melanie Schwartz wrote to students on Monday.\n",
            "            <em>\n",
            "             <strong>\n",
            "             </strong>\n",
            "            </em>\n",
            "           </p>\n",
            "           <h3>\n",
            "            Unis try to avoid infection in share accommodation\n",
            "           </h3>\n",
            "           <p>\n",
            "            Universities around the country are also seeking advice from public health experts on how to minimise the spread of COVID-19 among students living in campus accommodation and other share housing.\n",
            "           </p>\n",
            "           <p>\n",
            "            The Australian National University said many students congregated in residential halls \"so across our student residences we’re implementing considered social distancing measures for our dining halls, kitchens and self-catering\".\n",
            "           </p>\n",
            "           <p>\n",
            "            \"We’ve also reformatted social and academic support events and activities so that they have smaller numbers (25 people or less) and in some cases, these will be offered as online connections – we’re being creative to ensure pastoral care and community wellbeing are maintained,\" a spokesperson said.\n",
            "           </p>\n",
            "          </div>\n",
            "          <div class=\"_1lC_G\">\n",
            "          </div>\n",
            "          <div class=\"_1665V undefined\">\n",
            "           <div class=\"ymInT _3uJpn noPrint\">\n",
            "            <span class=\"_2wzgv D5idv _3lVFK\">\n",
            "             <span class=\"_29Qt8\">\n",
            "             </span>\n",
            "             <span class=\"_3qqDc\">\n",
            "              Loading\n",
            "             </span>\n",
            "            </span>\n",
            "           </div>\n",
            "           <p>\n",
            "            University of Sydney-owned student accommodation and residential colleges have also started additional cleaning and sanitation of common areas. Students are being provided with hand sanitisers, tissues and face masks and advised to keep a physical distance from each other. Housing\n",
            "            <a href=\"/link/follow-20170101-p5479m\">\n",
            "             is being provided\n",
            "            </a>\n",
            "            to students that live in university-owned accommodation who need to self isolate.\n",
            "           </p>\n",
            "           <p>\n",
            "            Dining times have also been extended to allow students to stagger their meals and restrict access to communal utensils.\n",
            "           </p>\n",
            "           <p>\n",
            "            The University of NSW has asked students who need to self-isolate to avoid communal areas and avoid sharing utensils and tea towels. They have been advised to use separate bathroom and kitchen facilities and to regularly clean shared facilities. They should also wear a surgical mask while in the same room with any other people.\n",
            "           </p>\n",
            "          </div>\n",
            "          <div class=\"noPrint\">\n",
            "           <div>\n",
            "           </div>\n",
            "          </div>\n",
            "          <div class=\"_22FRK\">\n",
            "           <section class=\"aKWhn noPrint\" id=\"endOfArticle\">\n",
            "            <div class=\"dLGbc\">\n",
            "             <div class=\"_8Cum8\">\n",
            "              <a class=\"_4oUp_\" href=\"http://rightsportal.copyright.com.au/pages/republicationpage.aspx?author=Natassia%20Chrysanthos%20and%20Anna%20Patty&amp;publication=SMH&amp;publicationdate=2020-03-17T07%3A07%3A15Z&amp;publisher=fxj&amp;title=University%20of%20Sydney%20to%20move%20fully%20online%20while%20Macquarie%20cancels%20classes&amp;url=https%3A%2F%2Fwww.smh.com.au%2Fnational%2Fnsw%2Fmacquarie-uni-suspends-teaching-for-10-days-to-move-learning-online-20200317-p54avs.html\">\n",
            "               License this article\n",
            "              </a>\n",
            "             </div>\n",
            "             <div class=\"ZFgNO\">\n",
            "              <ul class=\"_3Nz34\">\n",
            "               <li>\n",
            "                <a class=\"_2Tz1_\" href=\"/coronavirus-pandemic\">\n",
            "                 Coronavirus pandemic\n",
            "                </a>\n",
            "               </li>\n",
            "               <li>\n",
            "                <a class=\"_2Tz1_\" href=\"/education\">\n",
            "                 Education\n",
            "                </a>\n",
            "               </li>\n",
            "               <li>\n",
            "                <a class=\"_2Tz1_\" href=\"/topic/university-63k\">\n",
            "                 University\n",
            "                </a>\n",
            "               </li>\n",
            "              </ul>\n",
            "             </div>\n",
            "            </div>\n",
            "           </section>\n",
            "           <div class=\"iQMz1\" hidden=\"\">\n",
            "            <div class=\"_2Xaw4\">\n",
            "             <h5 class=\"_3NFLJ\">\n",
            "              <a href=\"/by/natassia-chrysanthos-h17jwj\" title=\"Articles by Natassia Chrysanthos\">\n",
            "               Natassia Chrysanthos\n",
            "              </a>\n",
            "             </h5>\n",
            "             <ul class=\"_2BYUe\">\n",
            "              <li>\n",
            "               <a href=\"//twitter.com/natassiazc?lang=en\" rel=\"noopener noreferrer\" target=\"_blank\">\n",
            "                <span class=\"_3kzaw\">\n",
            "                 Twitter\n",
            "                </span>\n",
            "                <svg aria-hidden=\"true\" class=\"QMY9O\" focusable=\"false\" height=\"1em\" width=\"1em\">\n",
            "                 <use xlink:href=\"#icon-twitter\">\n",
            "                 </use>\n",
            "                </svg>\n",
            "               </a>\n",
            "              </li>\n",
            "              <li>\n",
            "               <a href=\"mailto:n.chrysanthos@smh.com.au\">\n",
            "                <span class=\"_3kzaw\">\n",
            "                 Email\n",
            "                </span>\n",
            "                <svg aria-hidden=\"true\" class=\"QMY9O\" focusable=\"false\" height=\"1em\" width=\"1em\">\n",
            "                 <use xlink:href=\"#icon-email\">\n",
            "                 </use>\n",
            "                </svg>\n",
            "               </a>\n",
            "              </li>\n",
            "             </ul>\n",
            "            </div>\n",
            "            <p class=\"_2g0-m\">\n",
            "             Natassia is the education reporter for The Sydney Morning Herald.\n",
            "            </p>\n",
            "           </div>\n",
            "           <div class=\"iQMz1\" hidden=\"\">\n",
            "            <div class=\"_2Xaw4\">\n",
            "             <h5 class=\"_3NFLJ\">\n",
            "              <a href=\"/by/anna-patty-hvebs\" title=\"Articles by Anna Patty\">\n",
            "               Anna Patty\n",
            "              </a>\n",
            "             </h5>\n",
            "             <ul class=\"_2BYUe\">\n",
            "              <li>\n",
            "               <a href=\"//www.facebook.com/Anna-Patty-1480824402179729\" rel=\"noopener noreferrer\" target=\"_blank\">\n",
            "                <span class=\"_3kzaw\">\n",
            "                 Facebook\n",
            "                </span>\n",
            "                <svg aria-hidden=\"true\" class=\"QMY9O\" focusable=\"false\" height=\"1em\" width=\"1em\">\n",
            "                 <use xlink:href=\"#icon-facebook\">\n",
            "                 </use>\n",
            "                </svg>\n",
            "               </a>\n",
            "              </li>\n",
            "              <li>\n",
            "               <a href=\"//twitter.com/annapattysmh?lang=en\" rel=\"noopener noreferrer\" target=\"_blank\">\n",
            "                <span class=\"_3kzaw\">\n",
            "                 Twitter\n",
            "                </span>\n",
            "                <svg aria-hidden=\"true\" class=\"QMY9O\" focusable=\"false\" height=\"1em\" width=\"1em\">\n",
            "                 <use xlink:href=\"#icon-twitter\">\n",
            "                 </use>\n",
            "                </svg>\n",
            "               </a>\n",
            "              </li>\n",
            "              <li>\n",
            "               <a href=\"mailto:apatty@theage.com.au\">\n",
            "                <span class=\"_3kzaw\">\n",
            "                 Email\n",
            "                </span>\n",
            "                <svg aria-hidden=\"true\" class=\"QMY9O\" focusable=\"false\" height=\"1em\" width=\"1em\">\n",
            "                 <use xlink:href=\"#icon-email\">\n",
            "                 </use>\n",
            "                </svg>\n",
            "               </a>\n",
            "              </li>\n",
            "             </ul>\n",
            "            </div>\n",
            "            <p class=\"_2g0-m\">\n",
            "             Anna Patty is a Senior Writer for The Sydney Morning Herald with a focus on higher education. She is a former Workplace Editor, Education Editor, State Political Reporter and Health Reporter.\n",
            "            </p>\n",
            "           </div>\n",
            "           <div class=\"noPrint\">\n",
            "            <section aria-busy=\"true\" aria-live=\"polite\" class=\"_2zaYr\" style=\"height:380px\">\n",
            "             <header class=\"_2qhpu\">\n",
            "              <h2 class=\"_2qhpu\">\n",
            "               Most Viewed in National\n",
            "              </h2>\n",
            "             </header>\n",
            "             <div class=\"_29X_Z\">\n",
            "              <span class=\"_2wzgv D5idv _3lVFK\">\n",
            "               <span class=\"_29Qt8\">\n",
            "               </span>\n",
            "               <span class=\"_3qqDc\">\n",
            "                Loading\n",
            "               </span>\n",
            "              </span>\n",
            "             </div>\n",
            "            </section>\n",
            "           </div>\n",
            "          </div>\n",
            "         </div>\n",
            "         <aside class=\"_1ki1P noPrint\">\n",
            "          <div class=\"_2MFEO\">\n",
            "           <div class=\"_3Cxsr\">\n",
            "            <div class=\"adWrapper _2UMq- noPrint\">\n",
            "             <small class=\"_3ToRr\">\n",
            "              Advertisement\n",
            "             </small>\n",
            "             <div class=\"undefined\" id=\"adspot-300x250-pos2\">\n",
            "             </div>\n",
            "            </div>\n",
            "            <div class=\"_1-uzy\" id=\"adspot-N-6x2-pos1\">\n",
            "            </div>\n",
            "           </div>\n",
            "           <div class=\"_1R0g5\">\n",
            "            <div class=\"sticky-outer-wrapper\">\n",
            "             <div class=\"sticky-inner-wrapper\" style=\"position:relative;top:0px\">\n",
            "              <div class=\"adWrapper _2UMq- noPrint\">\n",
            "               <small class=\"_3ToRr\">\n",
            "                Advertisement\n",
            "               </small>\n",
            "               <div class=\"undefined\" id=\"adspot-300x600_300x250_160x600-pos3\">\n",
            "               </div>\n",
            "              </div>\n",
            "             </div>\n",
            "            </div>\n",
            "           </div>\n",
            "          </div>\n",
            "         </aside>\n",
            "        </section>\n",
            "       </article>\n",
            "       <div class=\"noPrint\">\n",
            "        <div class=\"_2QXvK OUTBRAIN\" data-ob-template=\"SMH\" data-src=\"DROP_PERMALINK_HERE\" data-widget-id=\"AR_1\">\n",
            "        </div>\n",
            "        <section>\n",
            "         <div class=\"U-gvH\" data-widget=\"plista_widget_underArticle_v3\">\n",
            "         </div>\n",
            "        </section>\n",
            "        <div class=\"videoPlayerLoader\">\n",
            "        </div>\n",
            "       </div>\n",
            "      </div>\n",
            "     </div>\n",
            "     <footer class=\"y77aF noPrint\" id=\"footer\">\n",
            "      <div class=\"_39_V0\">\n",
            "       <div class=\"_3uPYr _2AynF\">\n",
            "        <a class=\"_2ABN- YClUs\" href=\"/\">\n",
            "         <h2>\n",
            "          The Sydney Morning Herald\n",
            "         </h2>\n",
            "        </a>\n",
            "       </div>\n",
            "       <ul class=\"_2tZpI\">\n",
            "        <li>\n",
            "         <a href=\"https://twitter.com/smh\">\n",
            "          <span>\n",
            "           Twitter\n",
            "          </span>\n",
            "          <svg aria-hidden=\"true\" class=\"QMY9O\" focusable=\"false\" height=\"1em\" width=\"1em\">\n",
            "           <use xlink:href=\"#icon-twitter\">\n",
            "           </use>\n",
            "          </svg>\n",
            "         </a>\n",
            "        </li>\n",
            "        <li>\n",
            "         <a href=\"http://www.facebook.com/sydneymorningherald\">\n",
            "          <span>\n",
            "           Facebook\n",
            "          </span>\n",
            "          <svg aria-hidden=\"true\" class=\"QMY9O\" focusable=\"false\" height=\"1em\" width=\"1em\">\n",
            "           <use xlink:href=\"#icon-facebook\">\n",
            "           </use>\n",
            "          </svg>\n",
            "         </a>\n",
            "        </li>\n",
            "        <li>\n",
            "         <a href=\"https://www.instagram.com/sydneymorningherald\">\n",
            "          <span>\n",
            "           Instagram\n",
            "          </span>\n",
            "          <svg aria-hidden=\"true\" class=\"QMY9O\" focusable=\"false\" height=\"1em\" width=\"1em\">\n",
            "           <use xlink:href=\"#icon-instagram\">\n",
            "           </use>\n",
            "          </svg>\n",
            "         </a>\n",
            "        </li>\n",
            "        <li>\n",
            "         <a href=\"/rssheadlines\">\n",
            "          <span>\n",
            "           RSS\n",
            "          </span>\n",
            "          <svg aria-hidden=\"true\" class=\"QMY9O\" focusable=\"false\" height=\"1em\" width=\"1em\">\n",
            "           <use xlink:href=\"#icon-rss\">\n",
            "           </use>\n",
            "          </svg>\n",
            "         </a>\n",
            "        </li>\n",
            "       </ul>\n",
            "       <section class=\"_2cb-t\">\n",
            "        <nav class=\"_3WLzB\">\n",
            "         <h3 class=\"_2_Vga\">\n",
            "          <a href=\"javascript:void(0)\">\n",
            "           <span class=\"_2g7Mb\">\n",
            "            Our Sites\n",
            "           </span>\n",
            "           <span class=\"_2hufO\">\n",
            "            <svg aria-hidden=\"true\" class=\"QMY9O\" focusable=\"false\" height=\"1em\" width=\"12px\">\n",
            "             <use xlink:href=\"#icon-arrowsdown\">\n",
            "             </use>\n",
            "            </svg>\n",
            "           </span>\n",
            "          </a>\n",
            "         </h3>\n",
            "         <ul aria-expanded=\"false\" class=\"_2q5mS\" role=\"region\">\n",
            "          <li>\n",
            "           <a href=\"https://www.smh.com.au\">\n",
            "            The Sydney Morning Herald\n",
            "           </a>\n",
            "          </li>\n",
            "          <li>\n",
            "           <a href=\"https://www.theage.com.au\">\n",
            "            The Age\n",
            "           </a>\n",
            "          </li>\n",
            "          <li>\n",
            "           <a href=\"https://www.brisbanetimes.com.au\">\n",
            "            Brisbane Times\n",
            "           </a>\n",
            "          </li>\n",
            "          <li>\n",
            "           <a href=\"https://www.watoday.com.au\">\n",
            "            WAtoday\n",
            "           </a>\n",
            "          </li>\n",
            "          <li>\n",
            "           <a href=\"https://www.afr.com\">\n",
            "            The Australian Financial Review\n",
            "           </a>\n",
            "          </li>\n",
            "          <li>\n",
            "           <a href=\"https://www.domain.com.au\">\n",
            "            Domain\n",
            "           </a>\n",
            "          </li>\n",
            "          <li>\n",
            "           <a href=\"http://www.traveller.com.au\">\n",
            "            Traveller\n",
            "           </a>\n",
            "          </li>\n",
            "          <li>\n",
            "           <a href=\"https://www.goodfood.com.au\">\n",
            "            Good Food\n",
            "           </a>\n",
            "          </li>\n",
            "          <li>\n",
            "           <a href=\"http://www.executivestyle.com.au\">\n",
            "            Executive Style\n",
            "           </a>\n",
            "          </li>\n",
            "          <li>\n",
            "           <a href=\"https://www.thestore.com.au\">\n",
            "            The Store\n",
            "           </a>\n",
            "          </li>\n",
            "          <li>\n",
            "           <a href=\"https://www.drive.com.au\">\n",
            "            Drive\n",
            "           </a>\n",
            "          </li>\n",
            "          <li>\n",
            "           <a href=\"https://www.caradvice.com.au\">\n",
            "            CarAdvice\n",
            "           </a>\n",
            "          </li>\n",
            "          <li>\n",
            "           <a href=\"https://www.rsvp.com.au\">\n",
            "            RSVP\n",
            "           </a>\n",
            "          </li>\n",
            "          <li>\n",
            "           <a href=\"http://www.weatherzone.com.au\">\n",
            "            Weatherzone\n",
            "           </a>\n",
            "          </li>\n",
            "         </ul>\n",
            "        </nav>\n",
            "        <nav class=\"_3WLzB\">\n",
            "         <h3 class=\"_2_Vga\">\n",
            "          <a href=\"javascript:void(0)\">\n",
            "           <span class=\"_2g7Mb\">\n",
            "            Classifieds\n",
            "           </span>\n",
            "           <span class=\"_2hufO\">\n",
            "            <svg aria-hidden=\"true\" class=\"QMY9O\" focusable=\"false\" height=\"1em\" width=\"12px\">\n",
            "             <use xlink:href=\"#icon-arrowsdown\">\n",
            "             </use>\n",
            "            </svg>\n",
            "           </span>\n",
            "          </a>\n",
            "         </h3>\n",
            "         <ul aria-expanded=\"false\" class=\"_2q5mS\" role=\"region\">\n",
            "          <li>\n",
            "           <a href=\"http://tributes.smh.com.au/obituaries/smh-au/\">\n",
            "            Tributes\n",
            "           </a>\n",
            "          </li>\n",
            "          <li>\n",
            "           <a href=\"http://celebrations.smh.com.au/celebration/smh-au/\">\n",
            "            Celebrations\n",
            "           </a>\n",
            "          </li>\n",
            "          <li>\n",
            "           <a href=\"https://advertisers.com.au\">\n",
            "            Place your ad\n",
            "           </a>\n",
            "          </li>\n",
            "          <li>\n",
            "           <a href=\"https://www.commercialrealestate.com.au\">\n",
            "            Commercial Real Estate\n",
            "           </a>\n",
            "          </li>\n",
            "          <li>\n",
            "           <a href=\"https://www.oneflare.com.au\">\n",
            "            Oneflare\n",
            "           </a>\n",
            "          </li>\n",
            "         </ul>\n",
            "        </nav>\n",
            "        <nav class=\"_3WLzB\">\n",
            "         <h3 class=\"_2_Vga\">\n",
            "          <a href=\"javascript:void(0)\">\n",
            "           <span class=\"_2g7Mb\">\n",
            "            The Sydney Morning Herald\n",
            "           </span>\n",
            "           <span class=\"_2hufO\">\n",
            "            <svg aria-hidden=\"true\" class=\"QMY9O\" focusable=\"false\" height=\"1em\" width=\"12px\">\n",
            "             <use xlink:href=\"#icon-arrowsdown\">\n",
            "             </use>\n",
            "            </svg>\n",
            "           </span>\n",
            "          </a>\n",
            "         </h3>\n",
            "         <ul aria-expanded=\"false\" class=\"_2q5mS\" role=\"region\">\n",
            "          <li>\n",
            "           <a href=\"/contact-us\">\n",
            "            Contact &amp; support\n",
            "           </a>\n",
            "          </li>\n",
            "          <li>\n",
            "           <a href=\"https://www.adcentre.com.au/brands/the-sydney-morning-herald\">\n",
            "            Advertise with us\n",
            "           </a>\n",
            "          </li>\n",
            "          <li>\n",
            "           <a href=\"https://smh.myfairfax.com.au/members/lite_session/new?callback_uri=https%3A%2F%2Fsmh.myfairfax.com.au%2Fbeta%2Fmembers%2Fmy_account%2Fnewsletters%3Fchannel_key%3DzHE9EWDHf1XPuz3Phk0YIg%26callback_uri%3Dhttps%253a%252f%252fwww.smh.com.au&amp;channel_key=zHE9EWDHf1XPuz3Phk0YIg\">\n",
            "            Newsletters\n",
            "           </a>\n",
            "          </li>\n",
            "          <li>\n",
            "           <a href=\"/siteguide/accessibility\">\n",
            "            Accessibility guide\n",
            "           </a>\n",
            "          </li>\n",
            "          <li>\n",
            "           <a href=\"/siteguide\">\n",
            "            Sitemap\n",
            "           </a>\n",
            "          </li>\n",
            "          <li>\n",
            "           <a href=\"https://consumer.fairfaxsyndication.com/C.aspx?VP3=CMS3&amp;VF=FXJFX2_2_VForm\">\n",
            "            Photo sales\n",
            "           </a>\n",
            "          </li>\n",
            "          <li>\n",
            "           <a href=\"https://frontpages.fairfaxsyndication.com/C.aspx?VP3=CMS3&amp;VF=FXJFX2_3_VForm\">\n",
            "            Purchase front pages\n",
            "           </a>\n",
            "          </li>\n",
            "          <li>\n",
            "           <a href=\"https://www.fairfaxsyndication.com/C.aspx?VP3=CMS3&amp;VF=FXJO50_1\">\n",
            "            Content licensing\n",
            "           </a>\n",
            "          </li>\n",
            "          <li>\n",
            "           <a href=\"/our-events\">\n",
            "            Our events\n",
            "           </a>\n",
            "          </li>\n",
            "          <li>\n",
            "           <a href=\"https://www.fairfaxmediacareers.com/home\">\n",
            "            Work with us\n",
            "           </a>\n",
            "          </li>\n",
            "          <li>\n",
            "           <a href=\"/conditions-of-use\">\n",
            "            Conditions of use\n",
            "           </a>\n",
            "          </li>\n",
            "          <li>\n",
            "           <a href=\"/privacy\">\n",
            "            Privacy policy\n",
            "           </a>\n",
            "          </li>\n",
            "          <li>\n",
            "           <a href=\"https://www.presscouncil.org.au/what-we-do\">\n",
            "            Press Council\n",
            "           </a>\n",
            "          </li>\n",
            "         </ul>\n",
            "        </nav>\n",
            "        <nav class=\"_3WLzB\">\n",
            "         <h3 class=\"_2_Vga\">\n",
            "          <a href=\"javascript:void(0)\">\n",
            "           <span class=\"_2g7Mb\">\n",
            "            Products &amp; Services\n",
            "           </span>\n",
            "           <span class=\"_2hufO\">\n",
            "            <svg aria-hidden=\"true\" class=\"QMY9O\" focusable=\"false\" height=\"1em\" width=\"12px\">\n",
            "             <use xlink:href=\"#icon-arrowsdown\">\n",
            "             </use>\n",
            "            </svg>\n",
            "           </span>\n",
            "          </a>\n",
            "         </h3>\n",
            "         <ul aria-expanded=\"false\" class=\"_2q5mS\" role=\"region\">\n",
            "          <li>\n",
            "           <a href=\"https://subscribe.smh.com.au/?promote_channel=HI_SMH_GNL_FT\">\n",
            "            Subscription packages\n",
            "           </a>\n",
            "          </li>\n",
            "          <li>\n",
            "           <a href=\"https://subscribers.smh.com.au\">\n",
            "            Subscriber benefits\n",
            "           </a>\n",
            "          </li>\n",
            "          <li>\n",
            "           <a href=\"https://www.smh.com.au/myaccount\">\n",
            "            My account\n",
            "           </a>\n",
            "          </li>\n",
            "          <li>\n",
            "           <a href=\"https://subscribers.smh.com.au/support-centre/overview\">\n",
            "            Subscriptions FAQs\n",
            "           </a>\n",
            "          </li>\n",
            "          <li>\n",
            "           <a data-ffx-event-action=\"cta click\" data-ffx-event-attribute=\"footer\" data-ffx-event-category=\"component\" data-ffx-event-label=\"todays paper\" data-ffx-hittype=\"event\" href=\"/todays-newspaper\">\n",
            "            Today’s Paper\n",
            "           </a>\n",
            "          </li>\n",
            "          <li>\n",
            "           <a data-ffx-event-action=\"cta click\" data-ffx-event-attribute=\"footer\" data-ffx-event-category=\"component\" data-ffx-event-label=\"crosswords\" data-ffx-hittype=\"event\" href=\"/puzzles/crosswords\">\n",
            "            Daily Crosswords\n",
            "           </a>\n",
            "          </li>\n",
            "         </ul>\n",
            "        </nav>\n",
            "       </section>\n",
            "       <div class=\"_1U4cI\">\n",
            "        <p>\n",
            "         Copyright ©\n",
            "         <!-- -->\n",
            "         2020\n",
            "        </p>\n",
            "        <div class=\"_1Z25A\">\n",
            "         <a class=\"_2W4Zy\" href=\"https://www.thesmhinsider.com.au/c/a/5dAvszx5Lm7C4GDU21EWmQ?dPanel=2\">\n",
            "          Feedback\n",
            "         </a>\n",
            "         <a class=\"_39qXI\" href=\"https://subscribe.smh.com.au/?promote_channel=HI_SMH_GNL_FT\">\n",
            "          Subscribe\n",
            "         </a>\n",
            "        </div>\n",
            "       </div>\n",
            "      </div>\n",
            "     </footer>\n",
            "    </div>\n",
            "   </div>\n",
            "  </div>\n",
            " </body>\n",
            "</html>\n"
          ],
          "name": "stdout"
        }
      ]
    },
    {
      "cell_type": "markdown",
      "metadata": {
        "id": "8RlCBsYSPkVp",
        "colab_type": "text"
      },
      "source": [
        "**Try &lt;p&gt;  tag**\n",
        "\n",
        "Using &lt;p&gt;  tag is a common way to extract the main contents of the online news articles. BUT, do not expect this always provides what you want."
      ]
    },
    {
      "cell_type": "code",
      "metadata": {
        "id": "uEx20icxPlDx",
        "colab_type": "code",
        "outputId": "411fadbd-db87-472b-bb72-0ad74f931f1c",
        "colab": {
          "base_uri": "https://localhost:8080/",
          "height": 394
        }
      },
      "source": [
        "p_tags = soup.findAll('p',text=True)\n",
        "for i, p_tag in enumerate(p_tags): \n",
        "    print(str(i) + str(p_tag))"
      ],
      "execution_count": 2,
      "outputs": [
        {
          "output_type": "stream",
          "text": [
            "0<p>The University of Sydney will suspend all face-to-face teaching from Monday and move fully online while Macquarie University has cancelled classes altogether in order to make the digital transition, revealing one of its students tested positive for COVID-19.</p>\n",
            "1<p>The University of Sydney's 10,000 staff members have been encouraged to work remotely to slow the spread of coronavirus, but the campus Wi-Fi network and facilities will remain open with enhanced cleaning protocols and social distancing measures.</p>\n",
            "2<p>Courses with labs and practical components will be adapted for online or suspended until later in the semester while clinical placements for health students will go ahead under strict guidelines, Vice-Chancellor Michael Spence wrote to staff on Tuesday afternoon.</p>\n",
            "3<p>\"We’ve put a lot of effort and thought into how to do it. I think this is a tremendous opportunity. This could be an interesting pedagogical experiment,\" he said.</p>\n",
            "4<p>\"At the moment we have to spend money to put education online to make sure our students' experience is uninterrupted as possible. There has been an overwhelming response from students that [is what they want].\"</p>\n",
            "5<p>Universities Australia deputy chief executive officer Anne-Marie Lansdown said 39 universities were providing online learning where possible amid the coronavirus pandemic. She said the challenge was increasing the amount of content that can be put online in a very short period of time.</p>\n",
            "6<p>\"For some courses it will be much harder – especially those with significant practical or technical requirements,\" Ms Lansdown said. \"In the case of practical-based learning, where online may not be possible, universities are offering maximum flexibility, including delaying or deferring those components.\"</p>\n",
            "7<p>Macquarie Vice-Chancellor Professor Bruce Dowton said in an email to staff on Tuesday morning that face-to-face and online teaching will be suspended for 12 days from Wednesday while the university transitions to online delivery of lectures and seminars.</p>\n",
            "8<p>\"It will also allow us to redesign campus-based delivery of our units to modes that support social distancing and remote support,\" he said.</p>\n",
            "9<p>Hours later, Macquarie confirmed a student had tested positive for COVID-19 the day before, and that several locations on campus had been cleaned overnight.</p>\n",
            "10<p>\"The current advice is that the rest of campus can continue to operate as normal after the completion of intensive cleaning operations and in line with ... moving to increase online delivery of educational programs,\" a spokesperson said.</p>\n",
            "11<p>But students were concerned they had not been told where the infected student had been on campus and whether some needed to self-isolate.</p>\n",
            "12<p>\"Many of the students are shocked that we could be left in the dark and that the university has not been able to make decisions for weeks about how to handle the virus situation,\" one student, who requested anonymity, said.</p>\n",
            "13<p>The University of NSW on Tuesday confirmed a third student tested positive for COVID-19 and had exhibited mild symptoms while in a three-hour evening science class last week.</p>\n",
            "14<p>Universities around the country are also seeking advice from public health experts on how to minimise the spread of COVID-19 among students living in campus accommodation and other share housing.</p>\n",
            "15<p>The Australian National University said many students congregated in residential halls \"so across our student residences we’re implementing considered social distancing measures for our dining halls, kitchens and self-catering\".</p>\n",
            "16<p>\"We’ve also reformatted social and academic support events and activities so that they have smaller numbers (25 people or less) and in some cases, these will be offered as online connections – we’re being creative to ensure pastoral care and community wellbeing are maintained,\" a spokesperson said.</p>\n",
            "17<p>Dining times have also been extended to allow students to stagger their meals and restrict access to communal utensils.</p>\n",
            "18<p>The University of NSW has asked students who need to self-isolate to avoid communal areas and avoid sharing utensils and tea towels. They have been advised to use separate bathroom and kitchen facilities and to regularly clean shared facilities. They should also wear a surgical mask while in the same room with any other people.</p>\n",
            "19<p class=\"_2g0-m\">Natassia is the education reporter for The Sydney Morning Herald.</p>\n",
            "20<p class=\"_2g0-m\">Anna Patty is a Senior Writer for The Sydney Morning Herald with a focus on higher education. She is a former Workplace Editor, Education Editor, State Political Reporter and Health Reporter.</p>\n"
          ],
          "name": "stdout"
        }
      ]
    },
    {
      "cell_type": "markdown",
      "metadata": {
        "id": "BYnmY30W4kXq",
        "colab_type": "text"
      },
      "source": [
        "## Punctuations removal"
      ]
    },
    {
      "cell_type": "markdown",
      "metadata": {
        "id": "WUSe0XB142YM",
        "colab_type": "text"
      },
      "source": [
        "First, let's try to remove by using the list of punctuations! "
      ]
    },
    {
      "cell_type": "code",
      "metadata": {
        "id": "zPPA04m5CTS5",
        "colab_type": "code",
        "outputId": "0ec662b6-7724-4aea-c79f-2b2090ed082b",
        "colab": {
          "base_uri": "https://localhost:8080/",
          "height": 34
        }
      },
      "source": [
        "puncts = [',', '.', '\"', ':', ')', '(', '-', '!', '?', '|', ';', \"'\", '$', '&', '/', '[', ']', '>', '%', '=', '#', '*', '+', '\\\\', '•',  '~', '@', '£', \n",
        " '·', '_', '{', '}', '©', '^', '®', '`',  '<', '→', '°', '€', '™', '›',  '♥', '←', '×', '§', '″', '′', 'Â', '█', '½', 'à', '…', \n",
        " '“', '★', '”', '–', '●', 'â', '►', '−', '¢', '²', '¬', '░', '¶', '↑', '±', '¿', '▾', '═', '¦', '║', '―', '¥', '▓', '—', '‹', '─', \n",
        " '▒', '：', '¼', '⊕', '▼', '▪', '†', '■', '’', '▀', '¨', '▄', '♫', '☆', 'é', '¯', '♦', '¤', '▲', 'è', '¸', '¾', 'Ã', '⋅', '‘', '∞', \n",
        " '∙', '）', '↓', '、', '│', '（', '»', '，', '♪', '╩', '╚', '³', '・', '╦', '╣', '╔', '╗', '▬', '❤', 'ï', 'Ø', '¹', '≤', '‡', '√', ]\n",
        "\n",
        "def remove_punctuation(x):\n",
        "    x = str(x)\n",
        "    for punct in puncts:\n",
        "        if punct in x:\n",
        "            x = x.replace(punct, '')\n",
        "    return x\n",
        "\n",
        "\n",
        "text = \"It's a nice day[]\"\n",
        "print(remove_punctuation(text))\n"
      ],
      "execution_count": 3,
      "outputs": [
        {
          "output_type": "stream",
          "text": [
            "Its a nice day\n"
          ],
          "name": "stdout"
        }
      ]
    },
    {
      "cell_type": "markdown",
      "metadata": {
        "id": "yBYYb37K46gV",
        "colab_type": "text"
      },
      "source": [
        "Then, what about the the regular expression ([re package](https://docs.python.org/3/library/re.html))?"
      ]
    },
    {
      "cell_type": "code",
      "metadata": {
        "id": "SicWED4146pe",
        "colab_type": "code",
        "outputId": "b0f1252e-b77d-4ebc-a086-a10acfd7a52e",
        "colab": {
          "base_uri": "https://localhost:8080/",
          "height": 34
        }
      },
      "source": [
        "import re\n",
        "\n",
        "def remove_punctuation_re(x):\n",
        "    x = re.sub(r'[^\\w\\s]','',x)\n",
        "    \n",
        "    return x\n",
        "\n",
        "\n",
        "text = \"It's a nice day[]\"\n",
        "\n",
        "print(remove_punctuation_re(text))"
      ],
      "execution_count": 4,
      "outputs": [
        {
          "output_type": "stream",
          "text": [
            "Its a nice day\n"
          ],
          "name": "stdout"
        }
      ]
    },
    {
      "cell_type": "markdown",
      "metadata": {
        "id": "1D4zy-EAFC2B",
        "colab_type": "text"
      },
      "source": [
        "Ok. Then what about emoticons?      **:)** or **:D** or **:(**\n"
      ]
    },
    {
      "cell_type": "code",
      "metadata": {
        "id": "lhSuQUQn7HHy",
        "colab_type": "code",
        "colab": {}
      },
      "source": [
        "#you can find the solution from the TweetTokenizer https://www.nltk.org/_modules/nltk/tokenize/casual.html#TweetTokenizer\n",
        "EMOTICONS = r\"\"\"\n",
        "    (?:\n",
        "      [<>]?\n",
        "      [:;=8]                     # eyes\n",
        "      [\\-o\\*\\']?                 # optional nose\n",
        "      [\\)\\]\\(\\[dDpP/\\:\\}\\{@\\|\\\\] # mouth\n",
        "      |\n",
        "      [\\)\\]\\(\\[dDpP/\\:\\}\\{@\\|\\\\] # mouth\n",
        "      [\\-o\\*\\']?                 # optional nose\n",
        "      [:;=8]                     # eyes\n",
        "      [<>]?\n",
        "      |\n",
        "      <3                         # heart\n",
        "    )\"\"\""
      ],
      "execution_count": 0,
      "outputs": []
    },
    {
      "cell_type": "markdown",
      "metadata": {
        "id": "qbr_yUC07HRT",
        "colab_type": "text"
      },
      "source": [
        "Have a look at some contractions of words!\n"
      ]
    },
    {
      "cell_type": "code",
      "metadata": {
        "id": "GM6nYOK__dYw",
        "colab_type": "code",
        "colab": {}
      },
      "source": [
        "# These are just common English contractions. There are many edge cases. i.e. University's working on it.\n",
        "contraction_dict = {\"ain't\": \"is not\", \"aren't\": \"are not\",\"can't\": \"cannot\", \"'cause\": \"because\", \"could've\": \"could have\", \n",
        "                    \"couldn't\": \"could not\", \"didn't\": \"did not\",  \"doesn't\": \"does not\", \"don't\": \"do not\", \"hadn't\": \"had not\", \n",
        "                    \"hasn't\": \"has not\", \"haven't\": \"have not\", \"he'd\": \"he would\",\"he'll\": \"he will\", \"he's\": \"he is\", \"how'd\": \"how did\", \n",
        "                    \"how'd'y\": \"how do you\", \"how'll\": \"how will\", \"how's\": \"how is\",  \"I'd\": \"I would\", \"I'd've\": \"I would have\", \n",
        "                    \"I'll\": \"I will\", \"I'll've\": \"I will have\",\"I'm\": \"I am\", \"I've\": \"I have\", \"i'd\": \"i would\", \"i'd've\": \"i would have\", \n",
        "                    \"i'll\": \"i will\",  \"i'll've\": \"i will have\",\"i'm\": \"i am\", \"i've\": \"i have\", \"isn't\": \"is not\", \"it'd\": \"it would\", \n",
        "                    \"it'd've\": \"it would have\", \"it'll\": \"it will\", \"it'll've\": \"it will have\",\"it's\": \"it is\", \"let's\": \"let us\", \n",
        "                    \"ma'am\": \"madam\", \"mayn't\": \"may not\", \"might've\": \"might have\",\"mightn't\": \"might not\",\"mightn't've\": \"might not have\", \n",
        "                    \"must've\": \"must have\", \"mustn't\": \"must not\", \"mustn't've\": \"must not have\", \"needn't\": \"need not\", \"needn't've\": \"need not have\",\n",
        "                    \"o'clock\": \"of the clock\", \"oughtn't\": \"ought not\", \"oughtn't've\": \"ought not have\", \"shan't\": \"shall not\", \"sha'n't\": \"shall not\", \n",
        "                    \"shan't've\": \"shall not have\", \"she'd\": \"she would\", \"she'd've\": \"she would have\", \"she'll\": \"she will\", \"she'll've\": \"she will have\", \n",
        "                    \"she's\": \"she is\", \"should've\": \"should have\", \"shouldn't\": \"should not\", \"shouldn't've\": \"should not have\", \"so've\": \"so have\",\n",
        "                    \"so's\": \"so as\", \"this's\": \"this is\",\"that'd\": \"that would\", \"that'd've\": \"that would have\", \"that's\": \"that is\", \"there'd\": \"there would\", \n",
        "                    \"there'd've\": \"there would have\", \"there's\": \"there is\", \"here's\": \"here is\",\"they'd\": \"they would\", \"they'd've\": \"they would have\", \n",
        "                    \"they'll\": \"they will\", \"they'll've\": \"they will have\", \"they're\": \"they are\", \"they've\": \"they have\", \"to've\": \"to have\", \"wasn't\": \"was not\", \n",
        "                    \"we'd\": \"we would\", \"we'd've\": \"we would have\", \"we'll\": \"we will\", \"we'll've\": \"we will have\", \"we're\": \"we are\", \"we've\": \"we have\", \n",
        "                    \"weren't\": \"were not\", \"what'll\": \"what will\", \"what'll've\": \"what will have\", \"what're\": \"what are\",  \"what's\": \"what is\", \"what've\": \"what have\", \n",
        "                    \"when's\": \"when is\", \"when've\": \"when have\", \"where'd\": \"where did\", \"where's\": \"where is\", \"where've\": \"where have\", \"who'll\": \"who will\", \n",
        "                    \"who'll've\": \"who will have\", \"who's\": \"who is\", \"who've\": \"who have\", \"why's\": \"why is\", \"why've\": \"why have\", \"will've\": \"will have\", \n",
        "                    \"won't\": \"will not\", \"won't've\": \"will not have\", \"would've\": \"would have\", \"wouldn't\": \"would not\", \"wouldn't've\": \"would not have\", \n",
        "                    \"y'all\": \"you all\", \"y'all'd\": \"you all would\",\"y'all'd've\": \"you all would have\",\"y'all're\": \"you all are\",\"y'all've\": \"you all have\",\n",
        "                    \"you'd\": \"you would\", \"you'd've\": \"you would have\", \"you'll\": \"you will\", \"you'll've\": \"you will have\", \"you're\": \"you are\", \"you've\": \"you have\"}"
      ],
      "execution_count": 0,
      "outputs": []
    },
    {
      "cell_type": "markdown",
      "metadata": {
        "id": "fW0bu-886Tp0",
        "colab_type": "text"
      },
      "source": [
        "## Stopwords removal\n",
        "Stopwords are the most common words in any natural language. For the purpose of analyzing text data and building NLP models, these stopwords might not add much value to the meaning of the document. Generally, the most common words used in a text are “the”, “is”, “in”, “for”, “where”, “when”, “to”, “at” etc.\n",
        "\n"
      ]
    },
    {
      "cell_type": "code",
      "metadata": {
        "id": "vh1rYL3NIavi",
        "colab_type": "code",
        "outputId": "a087bbb0-3280-46b2-d4a0-ebe56a2814fa",
        "colab": {
          "base_uri": "https://localhost:8080/",
          "height": 102
        }
      },
      "source": [
        "import nltk\n",
        "nltk.download('punkt')\n",
        "nltk.download('stopwords')\n",
        "\n",
        "from nltk.corpus import stopwords as sw\n",
        "from nltk.tokenize import word_tokenize\n",
        "\n",
        "my_sent = \"Natural Language Processing is fun but challenging.\"\n",
        "tokens = word_tokenize(my_sent)\n",
        "\n",
        "stop_words = sw.words()\n",
        "filtered_sentence = [w for w in tokens if not w in stop_words]\n",
        "\n",
        "print(filtered_sentence)"
      ],
      "execution_count": 7,
      "outputs": [
        {
          "output_type": "stream",
          "text": [
            "[nltk_data] Downloading package punkt to /root/nltk_data...\n",
            "[nltk_data]   Unzipping tokenizers/punkt.zip.\n",
            "[nltk_data] Downloading package stopwords to /root/nltk_data...\n",
            "[nltk_data]   Unzipping corpora/stopwords.zip.\n",
            "['Natural', 'Language', 'Processing', 'fun', 'challenging', '.']\n"
          ],
          "name": "stdout"
        }
      ]
    },
    {
      "cell_type": "markdown",
      "metadata": {
        "id": "eap6jyY26ovD",
        "colab_type": "text"
      },
      "source": [
        "## Case-folding\n",
        "A common strategy is to do case-folding by reducing all letters to lower case"
      ]
    },
    {
      "cell_type": "code",
      "metadata": {
        "id": "yiLKuaoEIbnq",
        "colab_type": "code",
        "outputId": "3671822e-c36d-43b6-a020-8301c058b6b7",
        "colab": {
          "base_uri": "https://localhost:8080/",
          "height": 51
        }
      },
      "source": [
        "text = \"Hello there!\"\n",
        "#Returns the result of converting all characters in text to lowercase.\n",
        "print(text.lower())\n",
        "\n",
        "\n",
        "#do we need to reduce all letters to lower case?\n",
        "text2 = \"I love University of Sydney :D\"\n",
        "print(text2.lower())"
      ],
      "execution_count": 8,
      "outputs": [
        {
          "output_type": "stream",
          "text": [
            "hello there!\n",
            "i love university of sydney :d\n"
          ],
          "name": "stdout"
        }
      ]
    },
    {
      "cell_type": "markdown",
      "metadata": {
        "id": "L9e4G_t5gCYG",
        "colab_type": "text"
      },
      "source": [
        "## Stemming\n",
        "Stemming is a process of removing and replacing word suffixes to arrive at a common root form of the word.\n",
        "\n",
        "*   Try various types of NLTK stemmer in [demo](http://text-processing.com/demo/stem/)\n",
        "*   A comparative study of stemming algorithm: [Paper Link](https://pdfs.semanticscholar.org/1c0c/0fa35d4ff8a2f925eb955e48d655494bd167.pdf)\n"
      ]
    },
    {
      "cell_type": "code",
      "metadata": {
        "id": "5FhadZUH607p",
        "colab_type": "code",
        "outputId": "a99a555b-a325-46d8-94d4-3575f55a4b16",
        "colab": {
          "base_uri": "https://localhost:8080/",
          "height": 34
        }
      },
      "source": [
        "#let's try to test with porter algorithm\n",
        "from nltk.stem.porter import *\n",
        "stemmer = PorterStemmer()\n",
        "\n",
        "plurals = ['caresses', 'flies', 'dies', 'mules', 'denied',\n",
        "            'died', 'agreed', 'owned', 'humbled', 'sized',\n",
        "            'meeting', 'stating', 'siezing', 'itemization',\n",
        "            'sensational', 'traditional', 'reference', 'colonizer',\n",
        "            'plotted']\n",
        "singles = [stemmer.stem(plural) for plural in plurals]\n",
        "\n",
        "print(singles)"
      ],
      "execution_count": 9,
      "outputs": [
        {
          "output_type": "stream",
          "text": [
            "['caress', 'fli', 'die', 'mule', 'deni', 'die', 'agre', 'own', 'humbl', 'size', 'meet', 'state', 'siez', 'item', 'sensat', 'tradit', 'refer', 'colon', 'plot']\n"
          ],
          "name": "stdout"
        }
      ]
    },
    {
      "cell_type": "markdown",
      "metadata": {
        "id": "t5Tm9Zj4K8nj",
        "colab_type": "text"
      },
      "source": [
        "## Lemmatisation\n",
        "\n",
        "Lemmatisation is the process of grouping together the inflected forms of a word so they can be analysed as a single item, identified by the word's lemma, or dictionary form\n"
      ]
    },
    {
      "cell_type": "code",
      "metadata": {
        "id": "q0oIgt5NK8te",
        "colab_type": "code",
        "outputId": "329d3e77-bba5-47cf-a368-4d79c795aa51",
        "colab": {
          "base_uri": "https://localhost:8080/",
          "height": 204
        }
      },
      "source": [
        "#by NLTK Wordnet\n",
        "nltk.download('wordnet')\n",
        "\n",
        "from nltk.stem import WordNetLemmatizer\n",
        "\n",
        "lemmatizer = WordNetLemmatizer()\n",
        "\n",
        "print(lemmatizer.lemmatize(\"cats\"))\n",
        "print(lemmatizer.lemmatize(\"cacti\"))\n",
        "print(lemmatizer.lemmatize(\"geese\"))\n",
        "print(lemmatizer.lemmatize(\"rocks\"))\n",
        "print(lemmatizer.lemmatize(\"python\"))\n",
        "print(lemmatizer.lemmatize(\"better\", pos=\"a\"))\n",
        "print(lemmatizer.lemmatize(\"best\", pos=\"a\"))\n",
        "print(lemmatizer.lemmatize(\"run\"))\n",
        "print(lemmatizer.lemmatize(\"run\",'v'))"
      ],
      "execution_count": 10,
      "outputs": [
        {
          "output_type": "stream",
          "text": [
            "[nltk_data] Downloading package wordnet to /root/nltk_data...\n",
            "[nltk_data]   Unzipping corpora/wordnet.zip.\n",
            "cat\n",
            "cactus\n",
            "goose\n",
            "rock\n",
            "python\n",
            "good\n",
            "best\n",
            "run\n",
            "run\n"
          ],
          "name": "stdout"
        }
      ]
    },
    {
      "cell_type": "markdown",
      "metadata": {
        "id": "gZQBz4bS63_S",
        "colab_type": "text"
      },
      "source": [
        "## Tokenisation\n",
        "\n",
        "Given a character sequence and a defined document unit, tokenization is the task of chopping it up into pieces, called tokens , perhaps at the same time throwing away certain characters, such as punctuation\n",
        "\n",
        "Try various types of NLTK Tokenizer in [demo](http://text-processing.com/demo/tokenize/). \n",
        "\n",
        "[NLTK Tokeniser API Doc](https://www.nltk.org/api/nltk.tokenize.html)"
      ]
    },
    {
      "cell_type": "markdown",
      "metadata": {
        "id": "Jj6FSwVH9pig",
        "colab_type": "text"
      },
      "source": [
        "**TweetTokenizer: Twitter-aware tokeniser**"
      ]
    },
    {
      "cell_type": "code",
      "metadata": {
        "id": "PLiWA6VAGfyr",
        "colab_type": "code",
        "outputId": "7512dfb4-7bfb-4450-aa20-679d43f238bb",
        "colab": {
          "base_uri": "https://localhost:8080/",
          "height": 51
        }
      },
      "source": [
        "from nltk.tokenize import TweetTokenizer\n",
        "tknzr = TweetTokenizer()\n",
        "\n",
        "s0 = \"I am so happy :) ;)\" \n",
        "\n",
        "print(tknzr.tokenize(s0))\n",
        "\n",
        "s0 = \"I am so sad :(\"\n",
        "\n",
        "print(tknzr.tokenize(s0))"
      ],
      "execution_count": 11,
      "outputs": [
        {
          "output_type": "stream",
          "text": [
            "['I', 'am', 'so', 'happy', ':)', ';)']\n",
            "['I', 'am', 'so', 'sad', ':(']\n"
          ],
          "name": "stdout"
        }
      ]
    },
    {
      "cell_type": "markdown",
      "metadata": {
        "id": "Q2aUurLvKn90",
        "colab_type": "text"
      },
      "source": [
        "**TreebankWordTokenizer**\n",
        "\n",
        "The Treebank tokenizer uses regular expressions to tokenize text as in Penn Treebank."
      ]
    },
    {
      "cell_type": "code",
      "metadata": {
        "id": "z79eqDUw9po5",
        "colab_type": "code",
        "outputId": "605dcd74-8698-4a5f-be13-f0d52116fe8f",
        "colab": {
          "base_uri": "https://localhost:8080/",
          "height": 51
        }
      },
      "source": [
        "from nltk.tokenize import TreebankWordTokenizer\n",
        "tknzr = TreebankWordTokenizer()\n",
        "\n",
        "s0 = \"I am so happy :) ;)\" \n",
        "\n",
        "print(tknzr.tokenize(s0))\n",
        "\n",
        "s0 = \"I am so sad :(\"\n",
        "\n",
        "print(tknzr.tokenize(s0))"
      ],
      "execution_count": 12,
      "outputs": [
        {
          "output_type": "stream",
          "text": [
            "['I', 'am', 'so', 'happy', ':', ')', ';', ')']\n",
            "['I', 'am', 'so', 'sad', ':', '(']\n"
          ],
          "name": "stdout"
        }
      ]
    },
    {
      "cell_type": "markdown",
      "metadata": {
        "id": "Ko6A3-sP67AA",
        "colab_type": "text"
      },
      "source": [
        "# Word Cloud\n",
        "*   [Word Cloud](https://amueller.github.io/word_cloud/index.html)\n",
        "*   [Wikipedia Python](https://pypi.org/project/wikipedia/)\n"
      ]
    },
    {
      "cell_type": "code",
      "metadata": {
        "id": "8RL-2Nl6M8bS",
        "colab_type": "code",
        "outputId": "d1052468-f8b2-43d2-f1ba-51bb8d015c7b",
        "colab": {
          "base_uri": "https://localhost:8080/",
          "height": 272
        }
      },
      "source": [
        "!pip install wikipedia"
      ],
      "execution_count": 13,
      "outputs": [
        {
          "output_type": "stream",
          "text": [
            "Collecting wikipedia\n",
            "  Downloading https://files.pythonhosted.org/packages/67/35/25e68fbc99e672127cc6fbb14b8ec1ba3dfef035bf1e4c90f78f24a80b7d/wikipedia-1.4.0.tar.gz\n",
            "Requirement already satisfied: beautifulsoup4 in /usr/local/lib/python3.6/dist-packages (from wikipedia) (4.6.3)\n",
            "Requirement already satisfied: requests<3.0.0,>=2.0.0 in /usr/local/lib/python3.6/dist-packages (from wikipedia) (2.21.0)\n",
            "Requirement already satisfied: chardet<3.1.0,>=3.0.2 in /usr/local/lib/python3.6/dist-packages (from requests<3.0.0,>=2.0.0->wikipedia) (3.0.4)\n",
            "Requirement already satisfied: certifi>=2017.4.17 in /usr/local/lib/python3.6/dist-packages (from requests<3.0.0,>=2.0.0->wikipedia) (2019.11.28)\n",
            "Requirement already satisfied: urllib3<1.25,>=1.21.1 in /usr/local/lib/python3.6/dist-packages (from requests<3.0.0,>=2.0.0->wikipedia) (1.24.3)\n",
            "Requirement already satisfied: idna<2.9,>=2.5 in /usr/local/lib/python3.6/dist-packages (from requests<3.0.0,>=2.0.0->wikipedia) (2.8)\n",
            "Building wheels for collected packages: wikipedia\n",
            "  Building wheel for wikipedia (setup.py) ... \u001b[?25l\u001b[?25hdone\n",
            "  Created wheel for wikipedia: filename=wikipedia-1.4.0-cp36-none-any.whl size=11686 sha256=ca6bc167585156cba8d393ccc3183bed920985d32c2bb8328c584a517fb65a19\n",
            "  Stored in directory: /root/.cache/pip/wheels/87/2a/18/4e471fd96d12114d16fe4a446d00c3b38fb9efcb744bd31f4a\n",
            "Successfully built wikipedia\n",
            "Installing collected packages: wikipedia\n",
            "Successfully installed wikipedia-1.4.0\n"
          ],
          "name": "stdout"
        }
      ]
    },
    {
      "cell_type": "code",
      "metadata": {
        "id": "ts5qkwsIgWs8",
        "colab_type": "code",
        "outputId": "e61945b2-5287-43d5-e463-21f87ad1f196",
        "colab": {
          "base_uri": "https://localhost:8080/",
          "height": 198
        }
      },
      "source": [
        "from wordcloud import WordCloud\n",
        "import wikipedia\n",
        "\n",
        "# Getting wikipedia contents of \"University of Sydney\"\n",
        "text = wikipedia.page(\"Corona\").content\n",
        "\n",
        "# Generate a word cloud image\n",
        "wordcloud = WordCloud().generate(text)\n",
        "\n",
        "# Display the generated image:\n",
        "# the matplotlib way:\n",
        "import matplotlib.pyplot as plt\n",
        "\n",
        "plt.imshow(wordcloud, interpolation='bilinear')\n",
        "plt.axis(\"off\")\n",
        "plt.show()"
      ],
      "execution_count": 14,
      "outputs": [
        {
          "output_type": "display_data",
          "data": {
            "image/png": "[encoded data removed]",
            "text/plain": [
              "<Figure size 432x288 with 1 Axes>"
            ]
          },
          "metadata": {
            "tags": []
          }
        }
      ]
    },
    {
      "cell_type": "markdown",
      "metadata": {
        "id": "_ynb-BNSMJF3",
        "colab_type": "text"
      },
      "source": [
        "Try more word cloud examples: [Link](https://amueller.github.io/word_cloud/auto_examples/index.html)"
      ]
    },
    {
      "cell_type": "markdown",
      "metadata": {
        "id": "Bgfxjm27_W58",
        "colab_type": "text"
      },
      "source": [
        "# Saving and Loading Models"
      ]
    },
    {
      "cell_type": "markdown",
      "metadata": {
        "id": "z8L2SD6URVmz",
        "colab_type": "text"
      },
      "source": [
        "**Saving model**"
      ]
    },
    {
      "cell_type": "code",
      "metadata": {
        "id": "5CIo7H32xssE",
        "colab_type": "code",
        "outputId": "a129f2d5-6006-4a37-8131-a5cd134d475a",
        "colab": {
          "base_uri": "https://localhost:8080/",
          "height": 442
        }
      },
      "source": [
        "import torch\n",
        "import torch.nn.functional as F\n",
        "import torch.nn as nn\n",
        "import torch.optim as optim\n",
        "import numpy as np\n",
        "import matplotlib.pyplot as plt\n",
        "\n",
        "class TheModelClass(nn.Module):\n",
        "    def __init__(self):\n",
        "        super(TheModelClass, self).__init__()\n",
        "        self.linear = nn.Linear(1, 1)\n",
        "\n",
        "    def forward(self, input):\n",
        "        output = self.linear(input)\n",
        "        return output\n",
        "\n",
        "no_of_epochs = 500\n",
        "display_interval = 20\n",
        "learning_rate=0.01\n",
        "\n",
        "# training data\n",
        "x_training = np.asarray([[1],[2],[5],[8],[9],[12],[14],[16],[18],[20]])\n",
        "y_training = np.asarray([100,200,501,780,901,1201,1399,1598,1800,2000])\n",
        "\n",
        "x_data_torch = torch.from_numpy(x_training).float()\n",
        "y_data_torch = torch.from_numpy(y_training).float() \n",
        "\n",
        "model = TheModelClass()\n",
        "optimizer = optim.SGD(model.parameters(), lr=learning_rate)\n",
        "\n",
        "for epoch in range(no_of_epochs):\n",
        "\n",
        "    # zero the parameter gradients\n",
        "    optimizer.zero_grad()\n",
        "\n",
        "    # forward + backward + optimize\n",
        "    outputs = model(x_data_torch)\n",
        "    loss = torch.sum(torch.pow(outputs-y_data_torch.view(-1,1),2))/(2*x_training.shape[0])\n",
        "    loss.backward()\n",
        "    optimizer.step()\n",
        "\n",
        "    if epoch%display_interval == display_interval-1:\n",
        "        print('Epoch: %d, loss: %.3f' %(epoch + 1, loss.item() ))"
      ],
      "execution_count": 15,
      "outputs": [
        {
          "output_type": "stream",
          "text": [
            "Epoch: 20, loss: 29.435\n",
            "Epoch: 40, loss: 28.327\n",
            "Epoch: 60, loss: 27.329\n",
            "Epoch: 80, loss: 26.431\n",
            "Epoch: 100, loss: 25.622\n",
            "Epoch: 120, loss: 24.893\n",
            "Epoch: 140, loss: 24.236\n",
            "Epoch: 160, loss: 23.645\n",
            "Epoch: 180, loss: 23.113\n",
            "Epoch: 200, loss: 22.633\n",
            "Epoch: 220, loss: 22.201\n",
            "Epoch: 240, loss: 21.812\n",
            "Epoch: 260, loss: 21.462\n",
            "Epoch: 280, loss: 21.146\n",
            "Epoch: 300, loss: 20.862\n",
            "Epoch: 320, loss: 20.606\n",
            "Epoch: 340, loss: 20.375\n",
            "Epoch: 360, loss: 20.168\n",
            "Epoch: 380, loss: 19.981\n",
            "Epoch: 400, loss: 19.812\n",
            "Epoch: 420, loss: 19.661\n",
            "Epoch: 440, loss: 19.524\n",
            "Epoch: 460, loss: 19.401\n",
            "Epoch: 480, loss: 19.290\n",
            "Epoch: 500, loss: 19.190\n"
          ],
          "name": "stdout"
        }
      ]
    },
    {
      "cell_type": "code",
      "metadata": {
        "id": "zxBZETGT3pHZ",
        "colab_type": "code",
        "outputId": "834a4680-3b53-46cd-a200-69fad2a3f5bf",
        "colab": {
          "base_uri": "https://localhost:8080/",
          "height": 71
        }
      },
      "source": [
        "torch.save(model, 'filename.pt')"
      ],
      "execution_count": 16,
      "outputs": [
        {
          "output_type": "stream",
          "text": [
            "/usr/local/lib/python3.6/dist-packages/torch/serialization.py:360: UserWarning: Couldn't retrieve source code for container of type TheModelClass. It won't be checked for correctness upon loading.\n",
            "  \"type \" + obj.__name__ + \". It won't be checked \"\n"
          ],
          "name": "stderr"
        }
      ]
    },
    {
      "cell_type": "markdown",
      "metadata": {
        "id": "ZHlFto63RYdM",
        "colab_type": "text"
      },
      "source": [
        "**Loading model**"
      ]
    },
    {
      "cell_type": "code",
      "metadata": {
        "id": "cxoYkzWp51Kr",
        "colab_type": "code",
        "outputId": "a7266e28-e003-4f58-d201-eb1867891c1e",
        "colab": {
          "base_uri": "https://localhost:8080/",
          "height": 68
        }
      },
      "source": [
        "the_saved_model = torch.load('filename.pt')\n",
        "the_saved_model.eval()"
      ],
      "execution_count": 17,
      "outputs": [
        {
          "output_type": "execute_result",
          "data": {
            "text/plain": [
              "TheModelClass(\n",
              "  (linear): Linear(in_features=1, out_features=1, bias=True)\n",
              ")"
            ]
          },
          "metadata": {
            "tags": []
          },
          "execution_count": 17
        }
      ]
    },
    {
      "cell_type": "code",
      "metadata": {
        "id": "j13TVA787FYG",
        "colab_type": "code",
        "outputId": "c82b691b-c885-4d27-ead5-2f7a2d898363",
        "colab": {
          "base_uri": "https://localhost:8080/",
          "height": 187
        }
      },
      "source": [
        "prediction = the_saved_model(x_data_torch).detach().numpy()\n",
        "for i in range(len(y_training)):\n",
        "    print('X: %d, Y_true: %d, Y_predict: %.3f'%(x_training[i][0],y_training[i],prediction[i][0]))"
      ],
      "execution_count": 18,
      "outputs": [
        {
          "output_type": "stream",
          "text": [
            "X: 1, Y_true: 100, Y_predict: 99.708\n",
            "X: 2, Y_true: 200, Y_predict: 199.600\n",
            "X: 5, Y_true: 501, Y_predict: 499.277\n",
            "X: 8, Y_true: 780, Y_predict: 798.954\n",
            "X: 9, Y_true: 901, Y_predict: 898.846\n",
            "X: 12, Y_true: 1201, Y_predict: 1198.522\n",
            "X: 14, Y_true: 1399, Y_predict: 1398.307\n",
            "X: 16, Y_true: 1598, Y_predict: 1598.091\n",
            "X: 18, Y_true: 1800, Y_predict: 1797.876\n",
            "X: 20, Y_true: 2000, Y_predict: 1997.660\n"
          ],
          "name": "stdout"
        }
      ]
    },
    {
      "cell_type": "markdown",
      "metadata": {
        "id": "t6iDS4iMSj_L",
        "colab_type": "text"
      },
      "source": [
        "**How to Save (Upload) the model to your Google Drive**\n",
        "\n",
        "There are various ways to upload the files on Google Drive.\n",
        "\n",
        "[This tutorial](https://colab.research.google.com/notebooks/io.ipynb#scrollTo=RWSJpsyKqHjH) will guide you how to save the files on your Google Drive.\n",
        "\n",
        "1.   Mounting Google Drive locally\n",
        "2.   Create a new Drive file\n"
      ]
    },
    {
      "cell_type": "markdown",
      "metadata": {
        "id": "rxxHsS-lxK7o",
        "colab_type": "text"
      },
      "source": [
        "# Bi-LSTM with Hidden State Extraction\n",
        "\n",
        "The folllowing image represents the Bi-LSTM for N to 1 task. In the N to 1 task, it usually requires to extract the last hidden states of forward lstm and backward lstm and combine (concat) them. (Please check the lecture 5 recording, please!)\n",
        "\n",
        "![alt text](https://usydnlpgroup.files.wordpress.com/2020/03/bi-lstm_nto1-e1585416735686.png)"
      ]
    },
    {
      "cell_type": "markdown",
      "metadata": {
        "id": "cXmoWBP2yCms",
        "colab_type": "text"
      },
      "source": [
        "Bi-LSTM: Bidirectional LSTM, which means the signal propagates backward as well as forward in time.\n",
        "\n",
        "We are going to apply the same toy data we used in the lab 4."
      ]
    },
    {
      "cell_type": "code",
      "metadata": {
        "id": "FhridrFgxSPD",
        "colab_type": "code",
        "colab": {}
      },
      "source": [
        "import torch\n",
        "#You can enable GPU here (cuda); or just CPU\n",
        "device = torch.device(\"cuda\" if torch.cuda.is_available() else \"cpu\")\n",
        "\n",
        "import numpy as np\n",
        "\n",
        "#Assume that we have the following character instances\n",
        "char_arr = ['a', 'b', 'c', 'd', 'e', 'f', 'g',\n",
        "            'h', 'i', 'j', 'k', 'l', 'm', 'n',\n",
        "\n",
        "            'o', 'p', 'q', 'r', 's', 't', 'u',\n",
        "            'v', 'w', 'x', 'y', 'z']\n",
        "\n",
        "# one-hot encoding and decoding \n",
        "# {'a': 0, 'b': 1, 'c': 2, ..., 'j': 9, 'k', 10, ...}\n",
        "num_dic = {n: i for i, n in enumerate(char_arr)}\n",
        "dic_len = len(num_dic)\n",
        "\n",
        "\n",
        "# a list words for sequence data (input and output)\n",
        "seq_data = ['word', 'wood', 'deep', 'dive', 'cold', 'cool', 'load', 'love', 'kiss', 'kind']\n",
        "\n",
        "# Make a batch to have sequence data for input and ouput\n",
        "# wor -> X, d -> Y\n",
        "# dee -> X, p -> Y\n",
        "def make_batch(seq_data):\n",
        "    input_batch = []\n",
        "    target_batch = []\n",
        "    \n",
        "    for seq in seq_data:\n",
        "        # input data is:\n",
        "        #     wor           woo        dee       div\n",
        "        # [22, 14, 17] [22, 14, 14] [3, 4, 4] [3, 8, 21] ...\n",
        "        \n",
        "        input_data = [num_dic[n] for n in seq[:-1]]\n",
        "        \n",
        "        # target is :\n",
        "        # d, d, p, e, ...\n",
        "        # 3, 3, 15, 4, ...\n",
        "        target = num_dic[seq[-1]]\n",
        "        \n",
        "        # convert input to one-hot encoding.\n",
        "        # if input is [3, 4, 4]:\n",
        "        # [[ 0,  0,  0,  1,  0,  0,  0, ... 0]\n",
        "        #  [ 0,  0,  0,  0,  1,  0,  0, ... 0]\n",
        "        #  [ 0,  0,  0,  0,  1,  0,  0, ... 0]]\n",
        "        input_batch.append(np.eye(dic_len)[input_data])\n",
        "        \n",
        "        target_batch.append([target])\n",
        "\n",
        "    return input_batch, target_batch\n",
        "\n",
        "### Setting hyperparameters\n",
        "\n",
        "learning_rate = 0.1\n",
        "n_hidden = 128\n",
        "total_epoch = 50\n",
        "\n",
        "# Number of sequences for RNN\n",
        "n_step = 3\n",
        "\n",
        "# number of inputs (dimension of input vector) = 26\n",
        "n_input = dic_len\n",
        "# number of classes = 26\n",
        "n_class = dic_len\n"
      ],
      "execution_count": 0,
      "outputs": []
    },
    {
      "cell_type": "code",
      "metadata": {
        "id": "ffYFrRaE1Ju5",
        "colab_type": "code",
        "outputId": "49b32adf-db10-44de-fdcf-4e6a34e8e36a",
        "colab": {
          "base_uri": "https://localhost:8080/",
          "height": 1000
        }
      },
      "source": [
        "import torch.nn as nn\n",
        "import torch.nn.functional as F\n",
        "import torch.optim as optim\n",
        "from sklearn.metrics import accuracy_score\n",
        "\n",
        "class Net(nn.Module):\n",
        "    def __init__(self):\n",
        "        super(Net, self).__init__()\n",
        "        self.lstm = nn.LSTM(n_input, n_hidden, batch_first =True,bidirectional=True, dropout=0.2)\n",
        "        self.linear = nn.Linear(n_hidden*2,n_class)\n",
        "\n",
        "    def forward(self, sentence):\n",
        "        \n",
        "        #h_n of shape (num_layers * num_directions, batch, hidden_size): tensor containing the hidden state for t = seq_len.\n",
        "        lstm_out, (h_n,c_n) = self.lstm(sentence)\n",
        "        #concat the last hidden state from two direction\n",
        "        hidden_out =torch.cat((h_n[0,:,:],h_n[1,:,:]),1)\n",
        "        z = self.linear(hidden_out)\n",
        "        log_output = F.log_softmax(z, dim=1)\n",
        "        return log_output,hidden_out\n",
        "\n",
        "# Move the model to GPU\n",
        "net = Net().to(device)\n",
        "# Loss function and optimizer\n",
        "criterion = nn.NLLLoss()\n",
        "optimizer = optim.Adam(net.parameters(), lr=learning_rate)\n",
        "\n",
        "# Preparing input\n",
        "input_batch, target_batch = make_batch(seq_data)\n",
        "# Convert input into tensors and move them to GPU by uting tensor.to(device)\n",
        "input_batch_torch = torch.from_numpy(np.array(input_batch)).float().to(device)\n",
        "target_batch_torch = torch.from_numpy(np.array(target_batch)).view(-1).to(device)\n",
        "\n",
        "\n",
        "for epoch in range(total_epoch):  \n",
        "    \n",
        "    # Set the flag to training\n",
        "    net.train()\n",
        "    \n",
        "    # forward + backward + optimize\n",
        "    outputs,_ = net(input_batch_torch) \n",
        "    loss = criterion(outputs, target_batch_torch)\n",
        "    loss.backward()\n",
        "    optimizer.step()\n",
        "    optimizer.zero_grad()\n",
        "\n",
        "    # Set the flag to evaluation, which will 'turn off' the dropout\n",
        "    net.eval()\n",
        "    outputs,_ = net(input_batch_torch) \n",
        "    \n",
        "    # Evaluation loss and accuracy calculation\n",
        "    loss = criterion(outputs, target_batch_torch)\n",
        "    _, predicted = torch.max(outputs, 1)\n",
        "    acc= accuracy_score(predicted.cpu().numpy(),target_batch_torch.cpu().numpy())\n",
        "\n",
        "    print('Epoch: %d, loss: %.5f, train_acc: %.2f' %(epoch + 1, loss.item(), acc))\n",
        "\n",
        "print('Finished Training')\n",
        "\n",
        "## Prediction\n",
        "predict_words = []\n",
        "for i in range(len(predicted.cpu().numpy())):\n",
        "    ind = predicted.cpu().numpy()[i]\n",
        "    predict_words.append(seq_data[i][:-1]+char_arr[ind])\n",
        "\n",
        "print('\\n=== Prediction Result ===')\n",
        "print('Input:', [w[:3] + ' ' for w in seq_data])\n",
        "print('Predicted:', predict_words)\n",
        "print('Accuracy: %.2f' %acc)\n"
      ],
      "execution_count": 21,
      "outputs": [
        {
          "output_type": "stream",
          "text": [
            "/usr/local/lib/python3.6/dist-packages/torch/nn/modules/rnn.py:50: UserWarning: dropout option adds dropout after all but last recurrent layer, so non-zero dropout expects num_layers greater than 1, but got dropout=0.2 and num_layers=1\n",
            "  \"num_layers={}\".format(dropout, num_layers))\n"
          ],
          "name": "stderr"
        },
        {
          "output_type": "stream",
          "text": [
            "Epoch: 1, loss: 1.68502, train_acc: 0.50\n",
            "Epoch: 2, loss: 2.16859, train_acc: 0.20\n",
            "Epoch: 3, loss: 4.66985, train_acc: 0.30\n",
            "Epoch: 4, loss: 2.59931, train_acc: 0.50\n",
            "Epoch: 5, loss: 5.80417, train_acc: 0.10\n",
            "Epoch: 6, loss: 2.09955, train_acc: 0.20\n",
            "Epoch: 7, loss: 1.44174, train_acc: 0.50\n",
            "Epoch: 8, loss: 0.86425, train_acc: 0.70\n",
            "Epoch: 9, loss: 0.82422, train_acc: 0.90\n",
            "Epoch: 10, loss: 0.25646, train_acc: 0.80\n",
            "Epoch: 11, loss: 0.13556, train_acc: 1.00\n",
            "Epoch: 12, loss: 0.09892, train_acc: 0.90\n",
            "Epoch: 13, loss: 0.03932, train_acc: 1.00\n",
            "Epoch: 14, loss: 0.03229, train_acc: 1.00\n",
            "Epoch: 15, loss: 0.02715, train_acc: 1.00\n",
            "Epoch: 16, loss: 0.01112, train_acc: 1.00\n",
            "Epoch: 17, loss: 0.00446, train_acc: 1.00\n",
            "Epoch: 18, loss: 0.00311, train_acc: 1.00\n",
            "Epoch: 19, loss: 0.00293, train_acc: 1.00\n",
            "Epoch: 20, loss: 0.00275, train_acc: 1.00\n",
            "Epoch: 21, loss: 0.00238, train_acc: 1.00\n",
            "Epoch: 22, loss: 0.00191, train_acc: 1.00\n",
            "Epoch: 23, loss: 0.00145, train_acc: 1.00\n",
            "Epoch: 24, loss: 0.00117, train_acc: 1.00\n",
            "Epoch: 25, loss: 0.00097, train_acc: 1.00\n",
            "Epoch: 26, loss: 0.00079, train_acc: 1.00\n",
            "Epoch: 27, loss: 0.00064, train_acc: 1.00\n",
            "Epoch: 28, loss: 0.00052, train_acc: 1.00\n",
            "Epoch: 29, loss: 0.00042, train_acc: 1.00\n",
            "Epoch: 30, loss: 0.00034, train_acc: 1.00\n",
            "Epoch: 31, loss: 0.00027, train_acc: 1.00\n",
            "Epoch: 32, loss: 0.00022, train_acc: 1.00\n",
            "Epoch: 33, loss: 0.00019, train_acc: 1.00\n",
            "Epoch: 34, loss: 0.00016, train_acc: 1.00\n",
            "Epoch: 35, loss: 0.00013, train_acc: 1.00\n",
            "Epoch: 36, loss: 0.00011, train_acc: 1.00\n",
            "Epoch: 37, loss: 0.00010, train_acc: 1.00\n",
            "Epoch: 38, loss: 0.00009, train_acc: 1.00\n",
            "Epoch: 39, loss: 0.00008, train_acc: 1.00\n",
            "Epoch: 40, loss: 0.00007, train_acc: 1.00\n",
            "Epoch: 41, loss: 0.00006, train_acc: 1.00\n",
            "Epoch: 42, loss: 0.00006, train_acc: 1.00\n",
            "Epoch: 43, loss: 0.00005, train_acc: 1.00\n",
            "Epoch: 44, loss: 0.00005, train_acc: 1.00\n",
            "Epoch: 45, loss: 0.00004, train_acc: 1.00\n",
            "Epoch: 46, loss: 0.00004, train_acc: 1.00\n",
            "Epoch: 47, loss: 0.00004, train_acc: 1.00\n",
            "Epoch: 48, loss: 0.00004, train_acc: 1.00\n",
            "Epoch: 49, loss: 0.00004, train_acc: 1.00\n",
            "Epoch: 50, loss: 0.00003, train_acc: 1.00\n",
            "Finished Training\n",
            "\n",
            "=== Prediction Result ===\n",
            "Input: ['wor ', 'woo ', 'dee ', 'div ', 'col ', 'coo ', 'loa ', 'lov ', 'kis ', 'kin ']\n",
            "Predicted: ['word', 'wood', 'deep', 'dive', 'cold', 'cool', 'load', 'love', 'kiss', 'kind']\n",
            "Accuracy: 1.00\n"
          ],
          "name": "stdout"
        }
      ]
    },
    {
      "cell_type": "markdown",
      "metadata": {
        "id": "8ufD5mpV6KM8",
        "colab_type": "text"
      },
      "source": [
        "**How to extract the concatenated hidden state**"
      ]
    },
    {
      "cell_type": "code",
      "metadata": {
        "id": "7RkiE1Bh6Jt9",
        "colab_type": "code",
        "outputId": "4f717df6-e36f-4593-867e-17ba6e83e20c",
        "colab": {
          "base_uri": "https://localhost:8080/",
          "height": 289
        }
      },
      "source": [
        "net.eval()\n",
        "_,hidden_state = net(input_batch_torch)\n",
        "print(n_hidden)\n",
        "print(len(seq_data)) \n",
        "print(hidden_state.size())\n",
        "print(hidden_state.data)"
      ],
      "execution_count": 22,
      "outputs": [
        {
          "output_type": "stream",
          "text": [
            "128\n",
            "10\n",
            "torch.Size([10, 256])\n",
            "tensor([[ 1.3332e-06, -7.5658e-01,  1.0926e-07,  ...,  7.0121e-13,\n",
            "         -5.0437e-06, -7.6311e-01],\n",
            "        [ 3.6162e-06, -7.5658e-01,  1.3732e-07,  ...,  1.6962e-03,\n",
            "         -1.4431e-04, -3.3467e-01],\n",
            "        [ 1.3364e-03, -6.4163e-08, -7.4295e-01,  ..., -4.1531e-01,\n",
            "          1.1383e-02, -6.6188e-02],\n",
            "        ...,\n",
            "        [ 4.0414e-06, -2.0580e-02, -3.6173e-05,  ...,  1.1757e-04,\n",
            "         -1.8349e-07, -6.2295e-01],\n",
            "        [ 1.8073e-03, -1.0287e-05, -3.6084e-01,  ..., -1.1835e-01,\n",
            "          3.8682e-03, -4.2502e-01],\n",
            "        [ 9.5253e-03, -2.3210e-04, -3.2801e-01,  ...,  1.0507e-11,\n",
            "         -2.1003e-05, -7.6113e-01]], device='cuda:0')\n"
          ],
          "name": "stdout"
        }
      ]
    },
    {
      "cell_type": "markdown",
      "metadata": {
        "id": "z9dPCF1BMNpv",
        "colab_type": "text"
      },
      "source": [
        "# Exercise\n",
        "In this exercise, you are to preprocess the train and test data, and apply different pre-trained embeddings.\n",
        "\n",
        "**Note**: We won't mark your exercise based on the test set performance, we will only check whether the preprocessing part and embedding part are correct.\n",
        "\n",
        "**Important**: This exercise is very important to your assignment1 since you can use most of the codes here in your assignment1.\n"
      ]
    },
    {
      "cell_type": "code",
      "metadata": {
        "id": "jKxN3z5FPRcw",
        "colab_type": "code",
        "colab": {}
      },
      "source": [
        "import torch\n",
        "#You can enable GPU here (cuda); or just CPU\n",
        "device = torch.device(\"cuda\" if torch.cuda.is_available() else \"cpu\")"
      ],
      "execution_count": 0,
      "outputs": []
    },
    {
      "cell_type": "markdown",
      "metadata": {
        "colab_type": "text",
        "id": "DC69XgVlLuPi"
      },
      "source": [
        "## Download Dataset"
      ]
    },
    {
      "cell_type": "code",
      "metadata": {
        "colab_type": "code",
        "id": "zl7OaslvLuPo",
        "colab": {}
      },
      "source": [
        "# Code to download file into Colaboratory:\n",
        "!pip install -U -q PyDrive\n",
        "from pydrive.auth import GoogleAuth\n",
        "from pydrive.drive import GoogleDrive\n",
        "from google.colab import auth\n",
        "from oauth2client.client import GoogleCredentials\n",
        "# Authenticate and create the PyDrive client.\n",
        "auth.authenticate_user()\n",
        "gauth = GoogleAuth()\n",
        "gauth.credentials = GoogleCredentials.get_application_default()\n",
        "drive = GoogleDrive(gauth)\n",
        "\n",
        "id = '1gNfBqguzBu8cHKMPc8C44GbvD443dNC5'\n",
        "downloaded = drive.CreateFile({'id':id}) \n",
        "downloaded.GetContentFile('twitter.csv')  \n",
        "\n",
        "import pandas as pd\n",
        "df = pd.read_csv(\"twitter.csv\")\n",
        "df_pick = df.sample(40,random_state=24)\n",
        "\n",
        "raw_text = df_pick[\"Text\"].tolist()\n",
        "raw_label = df_pick[\"Label\"].tolist()\n",
        "\n",
        "from sklearn.model_selection import train_test_split\n",
        "text_train,text_test,label_train,label_test = train_test_split(raw_text,raw_label,test_size=0.25,random_state=42)"
      ],
      "execution_count": 0,
      "outputs": []
    },
    {
      "cell_type": "markdown",
      "metadata": {
        "colab_type": "text",
        "id": "i92SvLGOLuPv"
      },
      "source": [
        "## Preprocessing [Complete this section]"
      ]
    },
    {
      "cell_type": "markdown",
      "metadata": {
        "colab_type": "text",
        "id": "Xfp_5N2fLuPw"
      },
      "source": [
        "**Case Folding**"
      ]
    },
    {
      "cell_type": "code",
      "metadata": {
        "colab_type": "code",
        "id": "l9LggrTtLuPx",
        "colab": {}
      },
      "source": [
        "text_train = [s.lower() for s in text_train]\n",
        "text_test = [s.lower() for s in text_test]"
      ],
      "execution_count": 0,
      "outputs": []
    },
    {
      "cell_type": "markdown",
      "metadata": {
        "colab_type": "text",
        "id": "hb4GVZYCLuP1"
      },
      "source": [
        "**Remove punctuations [Please complete this section]**"
      ]
    },
    {
      "cell_type": "code",
      "metadata": {
        "colab_type": "code",
        "id": "Vl4MgL1XLuP2",
        "colab": {}
      },
      "source": [
        "import re\n",
        "def remove_punctuation_re(x):\n",
        "    x = re.sub(r'[^\\w\\s]','',x)\n",
        "    return x\n",
        "    \n",
        "text_train = [remove_punctuation_re(s) for s in text_train]\n",
        "text_test = [remove_punctuation_re(s) for s in text_test]"
      ],
      "execution_count": 0,
      "outputs": []
    },
    {
      "cell_type": "markdown",
      "metadata": {
        "colab_type": "text",
        "id": "YvIc4FCRLuQC"
      },
      "source": [
        "**Tokenization [Please complete this section]**"
      ]
    },
    {
      "cell_type": "code",
      "metadata": {
        "colab_type": "code",
        "id": "V3I1iHIWLuQD",
        "colab": {
          "base_uri": "https://localhost:8080/",
          "height": 51
        },
        "outputId": "01bb8327-4698-4c82-bf1d-2d7e7c9a926a"
      },
      "source": [
        "import nltk\n",
        "nltk.download('punkt')\n",
        "\n",
        "from nltk.tokenize import word_tokenize\n",
        "\n",
        "#Please complete this\n",
        "text_train = [word_tokenize(s) for s in text_train]\n",
        "text_test = [word_tokenize(s) for s in text_test]"
      ],
      "execution_count": 35,
      "outputs": [
        {
          "output_type": "stream",
          "text": [
            "[nltk_data] Downloading package punkt to /root/nltk_data...\n",
            "[nltk_data]   Package punkt is already up-to-date!\n"
          ],
          "name": "stdout"
        }
      ]
    },
    {
      "cell_type": "markdown",
      "metadata": {
        "colab_type": "text",
        "id": "ucmu2pWTLuQG"
      },
      "source": [
        "**Remove stopwords [Please complete this section]**"
      ]
    },
    {
      "cell_type": "code",
      "metadata": {
        "colab_type": "code",
        "id": "4blOZaW7LuQH",
        "colab": {
          "base_uri": "https://localhost:8080/",
          "height": 51
        },
        "outputId": "2db4f0bd-7cf2-4831-f7d9-de1d51d3feb3"
      },
      "source": [
        "nltk.download('stopwords')\n",
        "from nltk.corpus import stopwords as sw\n",
        "stop_words = sw.words()\n",
        "\n",
        "text_train_ns=[]\n",
        "for tokens in text_train:\n",
        "    filtered_sentence = [w for w in tokens if not w in stop_words]\n",
        "    text_train_ns.append(filtered_sentence)\n",
        "\n",
        "text_test_ns=[]\n",
        "for tokens in text_test:\n",
        "    filtered_sentence = [w for w in tokens if not w in stop_words]\n",
        "    text_test_ns.append(filtered_sentence)\n"
      ],
      "execution_count": 36,
      "outputs": [
        {
          "output_type": "stream",
          "text": [
            "[nltk_data] Downloading package stopwords to /root/nltk_data...\n",
            "[nltk_data]   Package stopwords is already up-to-date!\n"
          ],
          "name": "stdout"
        }
      ]
    },
    {
      "cell_type": "markdown",
      "metadata": {
        "colab_type": "text",
        "id": "QqFS0duZLuQM"
      },
      "source": [
        "**Lemmatisation [Please complete this section]**"
      ]
    },
    {
      "cell_type": "code",
      "metadata": {
        "colab_type": "code",
        "id": "6BTXGVwjLuQN",
        "colab": {
          "base_uri": "https://localhost:8080/",
          "height": 51
        },
        "outputId": "80f507a0-9f1a-4241-d202-a191ee2feffe"
      },
      "source": [
        "nltk.download('wordnet')\n",
        "\n",
        "from nltk.stem import WordNetLemmatizer\n",
        "\n",
        "lemmatizer = WordNetLemmatizer()\n",
        "\n",
        "text_train_le = []\n",
        "for tokens in text_train_ns:\n",
        "    lemma_sentence = [lemmatizer.lemmatize(w) for w in tokens ]\n",
        "    text_train_le.append(lemma_sentence)\n",
        "\n",
        "text_test_le = []\n",
        "for tokens in text_test_ns:\n",
        "    lemma_sentence = [lemmatizer.lemmatize(w) for w in tokens ]\n",
        "    text_test_le.append(lemma_sentence)"
      ],
      "execution_count": 37,
      "outputs": [
        {
          "output_type": "stream",
          "text": [
            "[nltk_data] Downloading package wordnet to /root/nltk_data...\n",
            "[nltk_data]   Package wordnet is already up-to-date!\n"
          ],
          "name": "stdout"
        }
      ]
    },
    {
      "cell_type": "markdown",
      "metadata": {
        "colab_type": "text",
        "id": "MpQvfCJHLuQQ"
      },
      "source": [
        "**Label Encoding**"
      ]
    },
    {
      "cell_type": "code",
      "metadata": {
        "colab_type": "code",
        "id": "FkcRYxaZLuQQ",
        "colab": {
          "base_uri": "https://localhost:8080/",
          "height": 51
        },
        "outputId": "61bab79e-4037-4581-928b-2fc0bf1c62e8"
      },
      "source": [
        "from sklearn.preprocessing import LabelEncoder\n",
        "\n",
        "labels = np.unique(label_train)\n",
        "\n",
        "lEnc = LabelEncoder()\n",
        "lEnc.fit(labels)\n",
        "label_train_n = lEnc.transform(label_train)\n",
        "label_test_n = lEnc.transform(label_test)\n",
        "numClass = len(labels)\n",
        "\n",
        "print(labels)\n",
        "print(lEnc.transform(labels))"
      ],
      "execution_count": 38,
      "outputs": [
        {
          "output_type": "stream",
          "text": [
            "['none' 'racism' 'sexism']\n",
            "[0 1 2]\n"
          ],
          "name": "stdout"
        }
      ]
    },
    {
      "cell_type": "markdown",
      "metadata": {
        "colab_type": "text",
        "id": "brgyXIhALuQT"
      },
      "source": [
        "## Embeddings [Complete this section]"
      ]
    },
    {
      "cell_type": "markdown",
      "metadata": {
        "colab_type": "text",
        "id": "ltZvof0NLuQX"
      },
      "source": [
        "**Padding**"
      ]
    },
    {
      "cell_type": "code",
      "metadata": {
        "colab_type": "code",
        "id": "O1V_W5PvLuQa",
        "colab": {}
      },
      "source": [
        "len_list = [len(s) for s in text_train_ns]\n",
        "seq_length = max(len_list)\n",
        "\n",
        "def add_padding(corpus, seq_length):\n",
        "    output = []\n",
        "    for sentence in corpus:\n",
        "        if len(sentence)>seq_length:\n",
        "            output.append(sentence[:seq_length])\n",
        "        else:\n",
        "            for j in range(seq_length-len(sentence)):\n",
        "                sentence.append(\"<PAD>\")\n",
        "            output.append(sentence)\n",
        "    return output\n",
        "\n",
        "text_train_pad = add_padding(text_train_le,seq_length )\n",
        "text_test_pad = add_padding(text_test_le,seq_length )"
      ],
      "execution_count": 0,
      "outputs": []
    },
    {
      "cell_type": "markdown",
      "metadata": {
        "colab_type": "text",
        "id": "rUA2H0-HLuQe"
      },
      "source": [
        "**Download Embeddings [Please try other embeddings]**\n",
        "\n",
        "You can find the details from https://github.com/RaRe-Technologies/gensim-data"
      ]
    },
    {
      "cell_type": "code",
      "metadata": {
        "colab_type": "code",
        "id": "856alejrLuQe",
        "colab": {
          "base_uri": "https://localhost:8080/",
          "height": 88
        },
        "outputId": "8ee48551-8b40-458d-875d-f4da9b2ac00e"
      },
      "source": [
        "import gensim.downloader as api\n",
        "word_emb_model = api.load(\"glove-twitter-25\") #this is only example"
      ],
      "execution_count": 40,
      "outputs": [
        {
          "output_type": "stream",
          "text": [
            "[==================================================] 100.0% 104.8/104.8MB downloaded\n"
          ],
          "name": "stdout"
        },
        {
          "output_type": "stream",
          "text": [
            "/usr/local/lib/python3.6/dist-packages/smart_open/smart_open_lib.py:410: UserWarning: This function is deprecated, use smart_open.open instead. See the migration notes for details: https://github.com/RaRe-Technologies/smart_open/blob/master/README.rst#migrating-to-the-new-open-function\n",
            "  'See the migration notes for details: %s' % _MIGRATION_NOTES_URL\n"
          ],
          "name": "stderr"
        }
      ]
    },
    {
      "cell_type": "markdown",
      "metadata": {
        "colab_type": "text",
        "id": "sCZMaK0zLuQj"
      },
      "source": [
        "**Get embeddings**"
      ]
    },
    {
      "cell_type": "code",
      "metadata": {
        "colab_type": "code",
        "id": "bdSLmjkSLuQk",
        "colab": {
          "base_uri": "https://localhost:8080/",
          "height": 51
        },
        "outputId": "d1064913-8abb-44d2-d805-8c644966e1cd"
      },
      "source": [
        "def get_embeddings(corpus,word_emb_model):\n",
        "    emb_dim = word_emb_model.vector_size\n",
        "    out = []\n",
        "    for sentence in corpus:\n",
        "        out_temp = []\n",
        "        for word in sentence:\n",
        "            try:\n",
        "                out_temp.append(word_emb_model.wv[word])\n",
        "            except:\n",
        "                out_temp.append([0]*emb_dim)\n",
        "    \n",
        "        out.append(out_temp)\n",
        "    return np.array(out)\n",
        "\n",
        "train_emb = get_embeddings(text_train_pad,word_emb_model)\n",
        "test_emb = get_embeddings(text_test_pad,word_emb_model)"
      ],
      "execution_count": 41,
      "outputs": [
        {
          "output_type": "stream",
          "text": [
            "/usr/local/lib/python3.6/dist-packages/ipykernel_launcher.py:8: DeprecationWarning: Call to deprecated `wv` (Attribute will be removed in 4.0.0, use self instead).\n",
            "  \n"
          ],
          "name": "stderr"
        }
      ]
    },
    {
      "cell_type": "markdown",
      "metadata": {
        "colab_type": "text",
        "id": "yJ96KxTcLuQo"
      },
      "source": [
        "## Model"
      ]
    },
    {
      "cell_type": "code",
      "metadata": {
        "colab_type": "code",
        "id": "jCZG8wAXLuQp",
        "colab": {}
      },
      "source": [
        "n_input = train_emb.shape[2]\n",
        "n_hidden = 50\n",
        "n_class = len(labels)\n",
        "total_epoch = 100\n",
        "learning_rate = 0.01"
      ],
      "execution_count": 0,
      "outputs": []
    },
    {
      "cell_type": "code",
      "metadata": {
        "colab_type": "code",
        "id": "NRrSAS-DLuQs",
        "colab": {
          "base_uri": "https://localhost:8080/",
          "height": 221
        },
        "outputId": "6cc19388-3612-475a-8d2e-5aa6d9942012"
      },
      "source": [
        "import torch.nn as nn\n",
        "import torch.nn.functional as F\n",
        "import torch.optim as optim\n",
        "from sklearn.metrics import accuracy_score\n",
        "\n",
        "class Net(nn.Module):\n",
        "    def __init__(self):\n",
        "        super(Net, self).__init__()\n",
        "        self.lstm = nn.LSTM(n_input, n_hidden, num_layers=2, batch_first =True, dropout=0.2)\n",
        "        self.linear = nn.Linear(n_hidden,n_class)\n",
        "\n",
        "    def forward(self, x):\n",
        "        x,_ = self.lstm(x)\n",
        "        x = self.linear(x[:,-1,:])\n",
        "        x = F.log_softmax(x, dim=1)\n",
        "        return x\n",
        "\n",
        "\n",
        "net = Net().to(device)\n",
        "criterion = nn.NLLLoss()\n",
        "optimizer = optim.Adam(net.parameters(), lr=learning_rate)\n",
        "\n",
        "input_batch_torch = torch.from_numpy(np.array(train_emb)).float().to(device)\n",
        "target_batch_torch = torch.from_numpy(np.array(label_train_n)).view(-1).to(device)\n",
        "\n",
        "\n",
        "for epoch in range(total_epoch):  \n",
        "    \n",
        "    net.train()\n",
        "    outputs = net(input_batch_torch) \n",
        "    loss = criterion(outputs, target_batch_torch)\n",
        "    loss.backward()\n",
        "    optimizer.step()\n",
        "    optimizer.zero_grad()\n",
        "\n",
        "    net.eval()\n",
        "    outputs = net(input_batch_torch) \n",
        "    \n",
        "    if epoch%10 == 9:\n",
        "        loss = criterion(outputs, target_batch_torch)\n",
        "        _, predicted = torch.max(outputs, 1)\n",
        "        acc= accuracy_score(predicted.cpu().numpy(),target_batch_torch.cpu().numpy())\n",
        "\n",
        "        print('Epoch: %d, loss: %.5f, train_acc: %.2f' %(epoch + 1, loss.item(), acc))\n",
        "\n",
        "print('Finished Training')\n"
      ],
      "execution_count": 43,
      "outputs": [
        {
          "output_type": "stream",
          "text": [
            "ERROR! Session/line number was not unique in database. History logging moved to new session 59\n",
            "Epoch: 10, loss: 0.53801, train_acc: 0.73\n",
            "Epoch: 20, loss: 0.25101, train_acc: 0.87\n",
            "Epoch: 30, loss: 0.00583, train_acc: 1.00\n",
            "Epoch: 40, loss: 0.00143, train_acc: 1.00\n",
            "Epoch: 50, loss: 0.39852, train_acc: 0.93\n",
            "Epoch: 60, loss: 0.42728, train_acc: 0.87\n",
            "Epoch: 70, loss: 0.19730, train_acc: 0.93\n",
            "Epoch: 80, loss: 0.12919, train_acc: 0.97\n",
            "Epoch: 90, loss: 0.10252, train_acc: 0.97\n",
            "Epoch: 100, loss: 0.05393, train_acc: 0.97\n",
            "Finished Training\n"
          ],
          "name": "stdout"
        }
      ]
    },
    {
      "cell_type": "markdown",
      "metadata": {
        "id": "nWTw2QWfN0Xc",
        "colab_type": "text"
      },
      "source": [
        "## Save and Load the model [Complete this section]"
      ]
    },
    {
      "cell_type": "markdown",
      "metadata": {
        "id": "abct4WjhO4Bq",
        "colab_type": "text"
      },
      "source": [
        "**Save the model [Complete this part]**"
      ]
    },
    {
      "cell_type": "code",
      "metadata": {
        "id": "gPRrmNS5ONQB",
        "colab_type": "code",
        "colab": {
          "base_uri": "https://localhost:8080/",
          "height": 51
        },
        "outputId": "dff96851-a184-42fd-fe02-7cbd9a533402"
      },
      "source": [
        "torch.save(net, 'lab5.pt')"
      ],
      "execution_count": 44,
      "outputs": [
        {
          "output_type": "stream",
          "text": [
            "/usr/local/lib/python3.6/dist-packages/torch/serialization.py:360: UserWarning: Couldn't retrieve source code for container of type Net. It won't be checked for correctness upon loading.\n",
            "  \"type \" + obj.__name__ + \". It won't be checked \"\n"
          ],
          "name": "stderr"
        }
      ]
    },
    {
      "cell_type": "markdown",
      "metadata": {
        "id": "75fQ4jx5ON-t",
        "colab_type": "text"
      },
      "source": [
        "**Load the model**"
      ]
    },
    {
      "cell_type": "code",
      "metadata": {
        "id": "F1AUVT1uOQm6",
        "colab_type": "code",
        "colab": {
          "base_uri": "https://localhost:8080/",
          "height": 85
        },
        "outputId": "b351ccb2-5155-4cc9-f96d-c12c27f3c458"
      },
      "source": [
        "model2 = torch.load('lab5.pt')\n",
        "model2.eval()"
      ],
      "execution_count": 45,
      "outputs": [
        {
          "output_type": "execute_result",
          "data": {
            "text/plain": [
              "Net(\n",
              "  (lstm): LSTM(25, 50, num_layers=2, batch_first=True, dropout=0.2)\n",
              "  (linear): Linear(in_features=50, out_features=3, bias=True)\n",
              ")"
            ]
          },
          "metadata": {
            "tags": []
          },
          "execution_count": 45
        }
      ]
    },
    {
      "cell_type": "markdown",
      "metadata": {
        "id": "WnsgFMGYKrPA",
        "colab_type": "text"
      },
      "source": [
        "## Testing"
      ]
    },
    {
      "cell_type": "code",
      "metadata": {
        "id": "yntT6vpAKXCt",
        "colab_type": "code",
        "outputId": "f45da036-7a72-4c07-d2e2-51205732fcd3",
        "colab": {
          "base_uri": "https://localhost:8080/",
          "height": 187
        }
      },
      "source": [
        "input_batch_torch = torch.from_numpy(np.array(test_emb)).float().to(device)\n",
        "\n",
        "outputs = model2(input_batch_torch) \n",
        "_, predicted = torch.max(outputs, 1)\n",
        "\n",
        "from sklearn.metrics import classification_report\n",
        "print(classification_report(label_test_n,predicted.cpu().numpy()))"
      ],
      "execution_count": 46,
      "outputs": [
        {
          "output_type": "stream",
          "text": [
            "              precision    recall  f1-score   support\n",
            "\n",
            "           0       0.86      0.86      0.86         7\n",
            "           1       1.00      1.00      1.00         2\n",
            "           2       0.00      0.00      0.00         1\n",
            "\n",
            "    accuracy                           0.80        10\n",
            "   macro avg       0.62      0.62      0.62        10\n",
            "weighted avg       0.80      0.80      0.80        10\n",
            "\n"
          ],
          "name": "stdout"
        }
      ]
    },
    {
      "cell_type": "code",
      "metadata": {
        "id": "tVytyTdS0VQS",
        "colab_type": "code",
        "colab": {}
      },
      "source": [
        ""
      ],
      "execution_count": 0,
      "outputs": []
    }
  ]
}